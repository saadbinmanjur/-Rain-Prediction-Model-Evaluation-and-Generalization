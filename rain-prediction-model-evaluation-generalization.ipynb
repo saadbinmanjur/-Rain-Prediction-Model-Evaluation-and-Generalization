{
 "cells": [
  {
   "cell_type": "markdown",
   "id": "c812643a",
   "metadata": {
    "papermill": {
     "duration": 0.081054,
     "end_time": "2021-08-10T18:26:41.833719",
     "exception": false,
     "start_time": "2021-08-10T18:26:41.752665",
     "status": "completed"
    },
    "tags": []
   },
   "source": [
    "# Rain Prediction, Model Evaluation & Generalization\n",
    "\n",
    "\n",
    "This dataset contains about 10 years of daily weather observations from many locations across Australia. RainTomorrow is the target variable to predict.\n",
    "\n",
    "\n",
    "Objectives:\n",
    "\n",
    "- Developing an ML model that suits best for the datasets predicting the rain on the next day.\n",
    "\n",
    "- How would you evaluate your model and why do you consider the model as a good fit?\n",
    "\n",
    "- What are the steps you will prefer to do for improving your model for further analysis?"
   ]
  },
  {
   "cell_type": "markdown",
   "id": "ec96fae1",
   "metadata": {
    "papermill": {
     "duration": 0.07818,
     "end_time": "2021-08-10T18:26:41.990462",
     "exception": false,
     "start_time": "2021-08-10T18:26:41.912282",
     "status": "completed"
    },
    "tags": []
   },
   "source": [
    "### Import libraries and dataset"
   ]
  },
  {
   "cell_type": "code",
   "execution_count": 1,
   "id": "ffa6e93b",
   "metadata": {
    "execution": {
     "iopub.execute_input": "2021-08-10T18:26:42.164115Z",
     "iopub.status.busy": "2021-08-10T18:26:42.163285Z",
     "iopub.status.idle": "2021-08-10T18:26:43.236775Z",
     "shell.execute_reply": "2021-08-10T18:26:43.235975Z",
     "shell.execute_reply.started": "2021-08-08T08:35:06.070962Z"
    },
    "papermill": {
     "duration": 1.165054,
     "end_time": "2021-08-10T18:26:43.236967",
     "exception": false,
     "start_time": "2021-08-10T18:26:42.071913",
     "status": "completed"
    },
    "tags": []
   },
   "outputs": [],
   "source": [
    "import numpy as np # linear algebra\n",
    "import pandas as pd # data processing, CSV file I/O (e.g. pd.read_csv)\n",
    "import matplotlib.pyplot as plt # data visualization\n",
    "import seaborn as sns # statistical data visualization\n",
    "%matplotlib inline\n",
    "\n",
    "import warnings\n",
    "warnings.filterwarnings('ignore')"
   ]
  },
  {
   "cell_type": "code",
   "execution_count": 2,
   "id": "4b5b2366",
   "metadata": {
    "execution": {
     "iopub.execute_input": "2021-08-10T18:26:43.400736Z",
     "iopub.status.busy": "2021-08-10T18:26:43.400053Z",
     "iopub.status.idle": "2021-08-10T18:26:44.136711Z",
     "shell.execute_reply": "2021-08-10T18:26:44.136131Z",
     "shell.execute_reply.started": "2021-08-08T08:35:06.527235Z"
    },
    "papermill": {
     "duration": 0.818324,
     "end_time": "2021-08-10T18:26:44.136864",
     "exception": false,
     "start_time": "2021-08-10T18:26:43.318540",
     "status": "completed"
    },
    "tags": []
   },
   "outputs": [],
   "source": [
    "data = '../input/weather-dataset-rattle-package/weatherAUS.csv'\n",
    "df = pd.read_csv(data)"
   ]
  },
  {
   "cell_type": "code",
   "execution_count": 3,
   "id": "2fb3545c",
   "metadata": {
    "execution": {
     "iopub.execute_input": "2021-08-10T18:26:44.299443Z",
     "iopub.status.busy": "2021-08-10T18:26:44.298704Z",
     "iopub.status.idle": "2021-08-10T18:26:44.302354Z",
     "shell.execute_reply": "2021-08-10T18:26:44.302857Z",
     "shell.execute_reply.started": "2021-08-08T08:35:06.966136Z"
    },
    "papermill": {
     "duration": 0.087848,
     "end_time": "2021-08-10T18:26:44.303049",
     "exception": false,
     "start_time": "2021-08-10T18:26:44.215201",
     "status": "completed"
    },
    "tags": []
   },
   "outputs": [
    {
     "data": {
      "text/plain": [
       "(145460, 23)"
      ]
     },
     "execution_count": 3,
     "metadata": {},
     "output_type": "execute_result"
    }
   ],
   "source": [
    "# view dimensions of dataset\n",
    "\n",
    "df.shape"
   ]
  },
  {
   "cell_type": "code",
   "execution_count": 4,
   "id": "9f59ba9f",
   "metadata": {
    "execution": {
     "iopub.execute_input": "2021-08-10T18:26:44.463095Z",
     "iopub.status.busy": "2021-08-10T18:26:44.462118Z",
     "iopub.status.idle": "2021-08-10T18:26:44.509620Z",
     "shell.execute_reply": "2021-08-10T18:26:44.509106Z",
     "shell.execute_reply.started": "2021-08-08T08:35:06.976984Z"
    },
    "papermill": {
     "duration": 0.127957,
     "end_time": "2021-08-10T18:26:44.509759",
     "exception": false,
     "start_time": "2021-08-10T18:26:44.381802",
     "status": "completed"
    },
    "tags": []
   },
   "outputs": [
    {
     "data": {
      "text/html": [
       "<div>\n",
       "<style scoped>\n",
       "    .dataframe tbody tr th:only-of-type {\n",
       "        vertical-align: middle;\n",
       "    }\n",
       "\n",
       "    .dataframe tbody tr th {\n",
       "        vertical-align: top;\n",
       "    }\n",
       "\n",
       "    .dataframe thead th {\n",
       "        text-align: right;\n",
       "    }\n",
       "</style>\n",
       "<table border=\"1\" class=\"dataframe\">\n",
       "  <thead>\n",
       "    <tr style=\"text-align: right;\">\n",
       "      <th></th>\n",
       "      <th>Date</th>\n",
       "      <th>Location</th>\n",
       "      <th>MinTemp</th>\n",
       "      <th>MaxTemp</th>\n",
       "      <th>Rainfall</th>\n",
       "      <th>Evaporation</th>\n",
       "      <th>Sunshine</th>\n",
       "      <th>WindGustDir</th>\n",
       "      <th>WindGustSpeed</th>\n",
       "      <th>WindDir9am</th>\n",
       "      <th>...</th>\n",
       "      <th>Humidity9am</th>\n",
       "      <th>Humidity3pm</th>\n",
       "      <th>Pressure9am</th>\n",
       "      <th>Pressure3pm</th>\n",
       "      <th>Cloud9am</th>\n",
       "      <th>Cloud3pm</th>\n",
       "      <th>Temp9am</th>\n",
       "      <th>Temp3pm</th>\n",
       "      <th>RainToday</th>\n",
       "      <th>RainTomorrow</th>\n",
       "    </tr>\n",
       "  </thead>\n",
       "  <tbody>\n",
       "    <tr>\n",
       "      <th>0</th>\n",
       "      <td>2008-12-01</td>\n",
       "      <td>Albury</td>\n",
       "      <td>13.4</td>\n",
       "      <td>22.9</td>\n",
       "      <td>0.6</td>\n",
       "      <td>NaN</td>\n",
       "      <td>NaN</td>\n",
       "      <td>W</td>\n",
       "      <td>44.0</td>\n",
       "      <td>W</td>\n",
       "      <td>...</td>\n",
       "      <td>71.0</td>\n",
       "      <td>22.0</td>\n",
       "      <td>1007.7</td>\n",
       "      <td>1007.1</td>\n",
       "      <td>8.0</td>\n",
       "      <td>NaN</td>\n",
       "      <td>16.9</td>\n",
       "      <td>21.8</td>\n",
       "      <td>No</td>\n",
       "      <td>No</td>\n",
       "    </tr>\n",
       "    <tr>\n",
       "      <th>1</th>\n",
       "      <td>2008-12-02</td>\n",
       "      <td>Albury</td>\n",
       "      <td>7.4</td>\n",
       "      <td>25.1</td>\n",
       "      <td>0.0</td>\n",
       "      <td>NaN</td>\n",
       "      <td>NaN</td>\n",
       "      <td>WNW</td>\n",
       "      <td>44.0</td>\n",
       "      <td>NNW</td>\n",
       "      <td>...</td>\n",
       "      <td>44.0</td>\n",
       "      <td>25.0</td>\n",
       "      <td>1010.6</td>\n",
       "      <td>1007.8</td>\n",
       "      <td>NaN</td>\n",
       "      <td>NaN</td>\n",
       "      <td>17.2</td>\n",
       "      <td>24.3</td>\n",
       "      <td>No</td>\n",
       "      <td>No</td>\n",
       "    </tr>\n",
       "    <tr>\n",
       "      <th>2</th>\n",
       "      <td>2008-12-03</td>\n",
       "      <td>Albury</td>\n",
       "      <td>12.9</td>\n",
       "      <td>25.7</td>\n",
       "      <td>0.0</td>\n",
       "      <td>NaN</td>\n",
       "      <td>NaN</td>\n",
       "      <td>WSW</td>\n",
       "      <td>46.0</td>\n",
       "      <td>W</td>\n",
       "      <td>...</td>\n",
       "      <td>38.0</td>\n",
       "      <td>30.0</td>\n",
       "      <td>1007.6</td>\n",
       "      <td>1008.7</td>\n",
       "      <td>NaN</td>\n",
       "      <td>2.0</td>\n",
       "      <td>21.0</td>\n",
       "      <td>23.2</td>\n",
       "      <td>No</td>\n",
       "      <td>No</td>\n",
       "    </tr>\n",
       "    <tr>\n",
       "      <th>3</th>\n",
       "      <td>2008-12-04</td>\n",
       "      <td>Albury</td>\n",
       "      <td>9.2</td>\n",
       "      <td>28.0</td>\n",
       "      <td>0.0</td>\n",
       "      <td>NaN</td>\n",
       "      <td>NaN</td>\n",
       "      <td>NE</td>\n",
       "      <td>24.0</td>\n",
       "      <td>SE</td>\n",
       "      <td>...</td>\n",
       "      <td>45.0</td>\n",
       "      <td>16.0</td>\n",
       "      <td>1017.6</td>\n",
       "      <td>1012.8</td>\n",
       "      <td>NaN</td>\n",
       "      <td>NaN</td>\n",
       "      <td>18.1</td>\n",
       "      <td>26.5</td>\n",
       "      <td>No</td>\n",
       "      <td>No</td>\n",
       "    </tr>\n",
       "    <tr>\n",
       "      <th>4</th>\n",
       "      <td>2008-12-05</td>\n",
       "      <td>Albury</td>\n",
       "      <td>17.5</td>\n",
       "      <td>32.3</td>\n",
       "      <td>1.0</td>\n",
       "      <td>NaN</td>\n",
       "      <td>NaN</td>\n",
       "      <td>W</td>\n",
       "      <td>41.0</td>\n",
       "      <td>ENE</td>\n",
       "      <td>...</td>\n",
       "      <td>82.0</td>\n",
       "      <td>33.0</td>\n",
       "      <td>1010.8</td>\n",
       "      <td>1006.0</td>\n",
       "      <td>7.0</td>\n",
       "      <td>8.0</td>\n",
       "      <td>17.8</td>\n",
       "      <td>29.7</td>\n",
       "      <td>No</td>\n",
       "      <td>No</td>\n",
       "    </tr>\n",
       "  </tbody>\n",
       "</table>\n",
       "<p>5 rows × 23 columns</p>\n",
       "</div>"
      ],
      "text/plain": [
       "         Date Location  MinTemp  MaxTemp  Rainfall  Evaporation  Sunshine  \\\n",
       "0  2008-12-01   Albury     13.4     22.9       0.6          NaN       NaN   \n",
       "1  2008-12-02   Albury      7.4     25.1       0.0          NaN       NaN   \n",
       "2  2008-12-03   Albury     12.9     25.7       0.0          NaN       NaN   \n",
       "3  2008-12-04   Albury      9.2     28.0       0.0          NaN       NaN   \n",
       "4  2008-12-05   Albury     17.5     32.3       1.0          NaN       NaN   \n",
       "\n",
       "  WindGustDir  WindGustSpeed WindDir9am  ... Humidity9am  Humidity3pm  \\\n",
       "0           W           44.0          W  ...        71.0         22.0   \n",
       "1         WNW           44.0        NNW  ...        44.0         25.0   \n",
       "2         WSW           46.0          W  ...        38.0         30.0   \n",
       "3          NE           24.0         SE  ...        45.0         16.0   \n",
       "4           W           41.0        ENE  ...        82.0         33.0   \n",
       "\n",
       "   Pressure9am  Pressure3pm  Cloud9am  Cloud3pm  Temp9am  Temp3pm  RainToday  \\\n",
       "0       1007.7       1007.1       8.0       NaN     16.9     21.8         No   \n",
       "1       1010.6       1007.8       NaN       NaN     17.2     24.3         No   \n",
       "2       1007.6       1008.7       NaN       2.0     21.0     23.2         No   \n",
       "3       1017.6       1012.8       NaN       NaN     18.1     26.5         No   \n",
       "4       1010.8       1006.0       7.0       8.0     17.8     29.7         No   \n",
       "\n",
       "   RainTomorrow  \n",
       "0            No  \n",
       "1            No  \n",
       "2            No  \n",
       "3            No  \n",
       "4            No  \n",
       "\n",
       "[5 rows x 23 columns]"
      ]
     },
     "execution_count": 4,
     "metadata": {},
     "output_type": "execute_result"
    }
   ],
   "source": [
    "# preview the dataset\n",
    "\n",
    "df.head()"
   ]
  },
  {
   "cell_type": "code",
   "execution_count": 5,
   "id": "e98b7267",
   "metadata": {
    "execution": {
     "iopub.execute_input": "2021-08-10T18:26:44.673621Z",
     "iopub.status.busy": "2021-08-10T18:26:44.672695Z",
     "iopub.status.idle": "2021-08-10T18:26:44.676174Z",
     "shell.execute_reply": "2021-08-10T18:26:44.676703Z",
     "shell.execute_reply.started": "2021-08-08T08:35:07.01952Z"
    },
    "papermill": {
     "duration": 0.088091,
     "end_time": "2021-08-10T18:26:44.676873",
     "exception": false,
     "start_time": "2021-08-10T18:26:44.588782",
     "status": "completed"
    },
    "tags": []
   },
   "outputs": [
    {
     "data": {
      "text/plain": [
       "Index(['Date', 'Location', 'MinTemp', 'MaxTemp', 'Rainfall', 'Evaporation',\n",
       "       'Sunshine', 'WindGustDir', 'WindGustSpeed', 'WindDir9am', 'WindDir3pm',\n",
       "       'WindSpeed9am', 'WindSpeed3pm', 'Humidity9am', 'Humidity3pm',\n",
       "       'Pressure9am', 'Pressure3pm', 'Cloud9am', 'Cloud3pm', 'Temp9am',\n",
       "       'Temp3pm', 'RainToday', 'RainTomorrow'],\n",
       "      dtype='object')"
      ]
     },
     "execution_count": 5,
     "metadata": {},
     "output_type": "execute_result"
    }
   ],
   "source": [
    "col_names = df.columns\n",
    "\n",
    "col_names"
   ]
  },
  {
   "cell_type": "code",
   "execution_count": 6,
   "id": "eba2ae4d",
   "metadata": {
    "execution": {
     "iopub.execute_input": "2021-08-10T18:26:44.838274Z",
     "iopub.status.busy": "2021-08-10T18:26:44.837221Z",
     "iopub.status.idle": "2021-08-10T18:26:44.964843Z",
     "shell.execute_reply": "2021-08-10T18:26:44.964308Z",
     "shell.execute_reply.started": "2021-08-08T08:35:07.028405Z"
    },
    "papermill": {
     "duration": 0.209219,
     "end_time": "2021-08-10T18:26:44.964984",
     "exception": false,
     "start_time": "2021-08-10T18:26:44.755765",
     "status": "completed"
    },
    "tags": []
   },
   "outputs": [
    {
     "name": "stdout",
     "output_type": "stream",
     "text": [
      "<class 'pandas.core.frame.DataFrame'>\n",
      "RangeIndex: 145460 entries, 0 to 145459\n",
      "Data columns (total 23 columns):\n",
      " #   Column         Non-Null Count   Dtype  \n",
      "---  ------         --------------   -----  \n",
      " 0   Date           145460 non-null  object \n",
      " 1   Location       145460 non-null  object \n",
      " 2   MinTemp        143975 non-null  float64\n",
      " 3   MaxTemp        144199 non-null  float64\n",
      " 4   Rainfall       142199 non-null  float64\n",
      " 5   Evaporation    82670 non-null   float64\n",
      " 6   Sunshine       75625 non-null   float64\n",
      " 7   WindGustDir    135134 non-null  object \n",
      " 8   WindGustSpeed  135197 non-null  float64\n",
      " 9   WindDir9am     134894 non-null  object \n",
      " 10  WindDir3pm     141232 non-null  object \n",
      " 11  WindSpeed9am   143693 non-null  float64\n",
      " 12  WindSpeed3pm   142398 non-null  float64\n",
      " 13  Humidity9am    142806 non-null  float64\n",
      " 14  Humidity3pm    140953 non-null  float64\n",
      " 15  Pressure9am    130395 non-null  float64\n",
      " 16  Pressure3pm    130432 non-null  float64\n",
      " 17  Cloud9am       89572 non-null   float64\n",
      " 18  Cloud3pm       86102 non-null   float64\n",
      " 19  Temp9am        143693 non-null  float64\n",
      " 20  Temp3pm        141851 non-null  float64\n",
      " 21  RainToday      142199 non-null  object \n",
      " 22  RainTomorrow   142193 non-null  object \n",
      "dtypes: float64(16), object(7)\n",
      "memory usage: 25.5+ MB\n"
     ]
    }
   ],
   "source": [
    "# view summary of dataset\n",
    "\n",
    "df.info()"
   ]
  },
  {
   "cell_type": "markdown",
   "id": "c5f3bf4b",
   "metadata": {
    "papermill": {
     "duration": 0.081212,
     "end_time": "2021-08-10T18:26:45.126512",
     "exception": false,
     "start_time": "2021-08-10T18:26:45.045300",
     "status": "completed"
    },
    "tags": []
   },
   "source": [
    "## Developing an ML model that suits best for the datasets predicting the rain on the next day\n",
    "### Feature Selection"
   ]
  },
  {
   "cell_type": "code",
   "execution_count": 7,
   "id": "44f3ac9d",
   "metadata": {
    "execution": {
     "iopub.execute_input": "2021-08-10T18:26:45.308565Z",
     "iopub.status.busy": "2021-08-10T18:26:45.307857Z",
     "iopub.status.idle": "2021-08-10T18:26:45.311271Z",
     "shell.execute_reply": "2021-08-10T18:26:45.310740Z",
     "shell.execute_reply.started": "2021-08-08T08:35:07.158151Z"
    },
    "papermill": {
     "duration": 0.105379,
     "end_time": "2021-08-10T18:26:45.311423",
     "exception": false,
     "start_time": "2021-08-10T18:26:45.206044",
     "status": "completed"
    },
    "tags": []
   },
   "outputs": [],
   "source": [
    "# Declare feature vector and target variable\n",
    "\n",
    "X = df.drop(['RainTomorrow'], axis=1)\n",
    "y = df['RainTomorrow']"
   ]
  },
  {
   "cell_type": "code",
   "execution_count": 8,
   "id": "35250570",
   "metadata": {
    "execution": {
     "iopub.execute_input": "2021-08-10T18:26:45.476174Z",
     "iopub.status.busy": "2021-08-10T18:26:45.475432Z",
     "iopub.status.idle": "2021-08-10T18:26:45.735385Z",
     "shell.execute_reply": "2021-08-10T18:26:45.734783Z",
     "shell.execute_reply.started": "2021-08-08T08:35:07.179605Z"
    },
    "papermill": {
     "duration": 0.344908,
     "end_time": "2021-08-10T18:26:45.735564",
     "exception": false,
     "start_time": "2021-08-10T18:26:45.390656",
     "status": "completed"
    },
    "tags": []
   },
   "outputs": [],
   "source": [
    "# split X and y into training and testing sets\n",
    "\n",
    "from sklearn.model_selection import train_test_split\n",
    "\n",
    "X_train, X_test, y_train, y_test = train_test_split(X, y, test_size = 0.2, random_state = 0)"
   ]
  },
  {
   "cell_type": "code",
   "execution_count": 9,
   "id": "6b4fd09d",
   "metadata": {
    "execution": {
     "iopub.execute_input": "2021-08-10T18:26:45.899455Z",
     "iopub.status.busy": "2021-08-10T18:26:45.898494Z",
     "iopub.status.idle": "2021-08-10T18:26:45.904306Z",
     "shell.execute_reply": "2021-08-10T18:26:45.904863Z",
     "shell.execute_reply.started": "2021-08-08T08:35:07.303707Z"
    },
    "papermill": {
     "duration": 0.089806,
     "end_time": "2021-08-10T18:26:45.905031",
     "exception": false,
     "start_time": "2021-08-10T18:26:45.815225",
     "status": "completed"
    },
    "tags": []
   },
   "outputs": [
    {
     "data": {
      "text/plain": [
       "((116368, 22), (29092, 22))"
      ]
     },
     "execution_count": 9,
     "metadata": {},
     "output_type": "execute_result"
    }
   ],
   "source": [
    "# check the shape of X_train and X_test\n",
    "\n",
    "X_train.shape, X_test.shape"
   ]
  },
  {
   "cell_type": "markdown",
   "id": "9637abc7",
   "metadata": {
    "papermill": {
     "duration": 0.080294,
     "end_time": "2021-08-10T18:26:46.064903",
     "exception": false,
     "start_time": "2021-08-10T18:26:45.984609",
     "status": "completed"
    },
    "tags": []
   },
   "source": [
    "### Feature Engineering"
   ]
  },
  {
   "cell_type": "code",
   "execution_count": 10,
   "id": "fa720544",
   "metadata": {
    "execution": {
     "iopub.execute_input": "2021-08-10T18:26:46.233232Z",
     "iopub.status.busy": "2021-08-10T18:26:46.232350Z",
     "iopub.status.idle": "2021-08-10T18:26:46.235847Z",
     "shell.execute_reply": "2021-08-10T18:26:46.236375Z",
     "shell.execute_reply.started": "2021-08-08T08:35:07.314649Z"
    },
    "papermill": {
     "duration": 0.091365,
     "end_time": "2021-08-10T18:26:46.236559",
     "exception": false,
     "start_time": "2021-08-10T18:26:46.145194",
     "status": "completed"
    },
    "tags": []
   },
   "outputs": [
    {
     "data": {
      "text/plain": [
       "Date              object\n",
       "Location          object\n",
       "MinTemp          float64\n",
       "MaxTemp          float64\n",
       "Rainfall         float64\n",
       "Evaporation      float64\n",
       "Sunshine         float64\n",
       "WindGustDir       object\n",
       "WindGustSpeed    float64\n",
       "WindDir9am        object\n",
       "WindDir3pm        object\n",
       "WindSpeed9am     float64\n",
       "WindSpeed3pm     float64\n",
       "Humidity9am      float64\n",
       "Humidity3pm      float64\n",
       "Pressure9am      float64\n",
       "Pressure3pm      float64\n",
       "Cloud9am         float64\n",
       "Cloud3pm         float64\n",
       "Temp9am          float64\n",
       "Temp3pm          float64\n",
       "RainToday         object\n",
       "dtype: object"
      ]
     },
     "execution_count": 10,
     "metadata": {},
     "output_type": "execute_result"
    }
   ],
   "source": [
    "# check data types in X_train\n",
    "\n",
    "X_train.dtypes"
   ]
  },
  {
   "cell_type": "code",
   "execution_count": 11,
   "id": "ce4b6a4d",
   "metadata": {
    "execution": {
     "iopub.execute_input": "2021-08-10T18:26:46.400105Z",
     "iopub.status.busy": "2021-08-10T18:26:46.399073Z",
     "iopub.status.idle": "2021-08-10T18:26:46.408332Z",
     "shell.execute_reply": "2021-08-10T18:26:46.408845Z",
     "shell.execute_reply.started": "2021-08-08T08:35:07.328955Z"
    },
    "papermill": {
     "duration": 0.092693,
     "end_time": "2021-08-10T18:26:46.409016",
     "exception": false,
     "start_time": "2021-08-10T18:26:46.316323",
     "status": "completed"
    },
    "tags": []
   },
   "outputs": [
    {
     "data": {
      "text/plain": [
       "['Date', 'Location', 'WindGustDir', 'WindDir9am', 'WindDir3pm', 'RainToday']"
      ]
     },
     "execution_count": 11,
     "metadata": {},
     "output_type": "execute_result"
    }
   ],
   "source": [
    "# display categorical variables\n",
    "\n",
    "categorical = [col for col in X_train.columns if X_train[col].dtypes == 'O']\n",
    "categorical"
   ]
  },
  {
   "cell_type": "code",
   "execution_count": 12,
   "id": "7e0aa60f",
   "metadata": {
    "execution": {
     "iopub.execute_input": "2021-08-10T18:26:46.573783Z",
     "iopub.status.busy": "2021-08-10T18:26:46.572732Z",
     "iopub.status.idle": "2021-08-10T18:26:46.579759Z",
     "shell.execute_reply": "2021-08-10T18:26:46.580317Z",
     "shell.execute_reply.started": "2021-08-08T08:35:07.342465Z"
    },
    "papermill": {
     "duration": 0.091192,
     "end_time": "2021-08-10T18:26:46.580507",
     "exception": false,
     "start_time": "2021-08-10T18:26:46.489315",
     "status": "completed"
    },
    "tags": []
   },
   "outputs": [
    {
     "data": {
      "text/plain": [
       "['MinTemp',\n",
       " 'MaxTemp',\n",
       " 'Rainfall',\n",
       " 'Evaporation',\n",
       " 'Sunshine',\n",
       " 'WindGustSpeed',\n",
       " 'WindSpeed9am',\n",
       " 'WindSpeed3pm',\n",
       " 'Humidity9am',\n",
       " 'Humidity3pm',\n",
       " 'Pressure9am',\n",
       " 'Pressure3pm',\n",
       " 'Cloud9am',\n",
       " 'Cloud3pm',\n",
       " 'Temp9am',\n",
       " 'Temp3pm']"
      ]
     },
     "execution_count": 12,
     "metadata": {},
     "output_type": "execute_result"
    }
   ],
   "source": [
    "# display numerical variables\n",
    "\n",
    "numerical = [col for col in X_train.columns if X_train[col].dtypes != 'O']\n",
    "numerical"
   ]
  },
  {
   "cell_type": "markdown",
   "id": "37727333",
   "metadata": {
    "papermill": {
     "duration": 0.080138,
     "end_time": "2021-08-10T18:26:46.741965",
     "exception": false,
     "start_time": "2021-08-10T18:26:46.661827",
     "status": "completed"
    },
    "tags": []
   },
   "source": [
    "### Handling missing values in numerical variables"
   ]
  },
  {
   "cell_type": "code",
   "execution_count": 13,
   "id": "4de6d945",
   "metadata": {
    "execution": {
     "iopub.execute_input": "2021-08-10T18:26:46.908453Z",
     "iopub.status.busy": "2021-08-10T18:26:46.907414Z",
     "iopub.status.idle": "2021-08-10T18:26:46.930004Z",
     "shell.execute_reply": "2021-08-10T18:26:46.930516Z",
     "shell.execute_reply.started": "2021-08-08T08:35:07.351841Z"
    },
    "papermill": {
     "duration": 0.107998,
     "end_time": "2021-08-10T18:26:46.930697",
     "exception": false,
     "start_time": "2021-08-10T18:26:46.822699",
     "status": "completed"
    },
    "tags": []
   },
   "outputs": [
    {
     "data": {
      "text/plain": [
       "MinTemp           1183\n",
       "MaxTemp           1019\n",
       "Rainfall          2617\n",
       "Evaporation      50355\n",
       "Sunshine         55899\n",
       "WindGustSpeed     8218\n",
       "WindSpeed9am      1409\n",
       "WindSpeed3pm      2456\n",
       "Humidity9am       2147\n",
       "Humidity3pm       3598\n",
       "Pressure9am      12091\n",
       "Pressure3pm      12064\n",
       "Cloud9am         44796\n",
       "Cloud3pm         47557\n",
       "Temp9am           1415\n",
       "Temp3pm           2865\n",
       "dtype: int64"
      ]
     },
     "execution_count": 13,
     "metadata": {},
     "output_type": "execute_result"
    }
   ],
   "source": [
    "# check missing values in numerical variables in X_train\n",
    "\n",
    "X_train[numerical].isnull().sum()"
   ]
  },
  {
   "cell_type": "code",
   "execution_count": 14,
   "id": "7b9260c2",
   "metadata": {
    "execution": {
     "iopub.execute_input": "2021-08-10T18:26:47.099361Z",
     "iopub.status.busy": "2021-08-10T18:26:47.098358Z",
     "iopub.status.idle": "2021-08-10T18:26:47.110185Z",
     "shell.execute_reply": "2021-08-10T18:26:47.110786Z",
     "shell.execute_reply.started": "2021-08-08T08:35:07.378164Z"
    },
    "papermill": {
     "duration": 0.09855,
     "end_time": "2021-08-10T18:26:47.110976",
     "exception": false,
     "start_time": "2021-08-10T18:26:47.012426",
     "status": "completed"
    },
    "tags": []
   },
   "outputs": [
    {
     "data": {
      "text/plain": [
       "MinTemp            302\n",
       "MaxTemp            242\n",
       "Rainfall           644\n",
       "Evaporation      12435\n",
       "Sunshine         13936\n",
       "WindGustSpeed     2045\n",
       "WindSpeed9am       358\n",
       "WindSpeed3pm       606\n",
       "Humidity9am        507\n",
       "Humidity3pm        909\n",
       "Pressure9am       2974\n",
       "Pressure3pm       2964\n",
       "Cloud9am         11092\n",
       "Cloud3pm         11801\n",
       "Temp9am            352\n",
       "Temp3pm            744\n",
       "dtype: int64"
      ]
     },
     "execution_count": 14,
     "metadata": {},
     "output_type": "execute_result"
    }
   ],
   "source": [
    "# check missing values in numerical variables in X_test\n",
    "\n",
    "X_test[numerical].isnull().sum()"
   ]
  },
  {
   "cell_type": "code",
   "execution_count": 15,
   "id": "613624cf",
   "metadata": {
    "execution": {
     "iopub.execute_input": "2021-08-10T18:26:47.279599Z",
     "iopub.status.busy": "2021-08-10T18:26:47.278568Z",
     "iopub.status.idle": "2021-08-10T18:26:47.305175Z",
     "shell.execute_reply": "2021-08-10T18:26:47.305769Z",
     "shell.execute_reply.started": "2021-08-08T08:35:07.392551Z"
    },
    "papermill": {
     "duration": 0.112914,
     "end_time": "2021-08-10T18:26:47.305972",
     "exception": false,
     "start_time": "2021-08-10T18:26:47.193058",
     "status": "completed"
    },
    "tags": []
   },
   "outputs": [
    {
     "name": "stdout",
     "output_type": "stream",
     "text": [
      "MinTemp 0.0102\n",
      "MaxTemp 0.0088\n",
      "Rainfall 0.0225\n",
      "Evaporation 0.4327\n",
      "Sunshine 0.4804\n",
      "WindGustSpeed 0.0706\n",
      "WindSpeed9am 0.0121\n",
      "WindSpeed3pm 0.0211\n",
      "Humidity9am 0.0185\n",
      "Humidity3pm 0.0309\n",
      "Pressure9am 0.1039\n",
      "Pressure3pm 0.1037\n",
      "Cloud9am 0.385\n",
      "Cloud3pm 0.4087\n",
      "Temp9am 0.0122\n",
      "Temp3pm 0.0246\n"
     ]
    }
   ],
   "source": [
    "# print percentage of missing values in the numerical variables in training set\n",
    "\n",
    "for col in numerical:\n",
    "    if X_train[col].isnull().mean()>0:\n",
    "        print(col, round(X_train[col].isnull().mean(),4))"
   ]
  },
  {
   "cell_type": "code",
   "execution_count": 16,
   "id": "782c0d8e",
   "metadata": {
    "execution": {
     "iopub.execute_input": "2021-08-10T18:26:47.478897Z",
     "iopub.status.busy": "2021-08-10T18:26:47.477757Z",
     "iopub.status.idle": "2021-08-10T18:26:47.548998Z",
     "shell.execute_reply": "2021-08-10T18:26:47.548381Z",
     "shell.execute_reply.started": "2021-08-08T08:35:07.422456Z"
    },
    "papermill": {
     "duration": 0.159279,
     "end_time": "2021-08-10T18:26:47.549139",
     "exception": false,
     "start_time": "2021-08-10T18:26:47.389860",
     "status": "completed"
    },
    "tags": []
   },
   "outputs": [],
   "source": [
    "# impute missing values in X_train and X_test with respective column median in X_train\n",
    "\n",
    "for df1 in [X_train, X_test]:\n",
    "    for col in numerical:\n",
    "        col_median=X_train[col].median()\n",
    "        df1[col].fillna(col_median, inplace=True)"
   ]
  },
  {
   "cell_type": "code",
   "execution_count": 17,
   "id": "d6a55038",
   "metadata": {
    "execution": {
     "iopub.execute_input": "2021-08-10T18:26:47.719578Z",
     "iopub.status.busy": "2021-08-10T18:26:47.718811Z",
     "iopub.status.idle": "2021-08-10T18:26:47.737160Z",
     "shell.execute_reply": "2021-08-10T18:26:47.737642Z",
     "shell.execute_reply.started": "2021-08-08T08:35:07.493615Z"
    },
    "papermill": {
     "duration": 0.104717,
     "end_time": "2021-08-10T18:26:47.737823",
     "exception": false,
     "start_time": "2021-08-10T18:26:47.633106",
     "status": "completed"
    },
    "tags": []
   },
   "outputs": [
    {
     "data": {
      "text/plain": [
       "MinTemp          0\n",
       "MaxTemp          0\n",
       "Rainfall         0\n",
       "Evaporation      0\n",
       "Sunshine         0\n",
       "WindGustSpeed    0\n",
       "WindSpeed9am     0\n",
       "WindSpeed3pm     0\n",
       "Humidity9am      0\n",
       "Humidity3pm      0\n",
       "Pressure9am      0\n",
       "Pressure3pm      0\n",
       "Cloud9am         0\n",
       "Cloud3pm         0\n",
       "Temp9am          0\n",
       "Temp3pm          0\n",
       "dtype: int64"
      ]
     },
     "execution_count": 17,
     "metadata": {},
     "output_type": "execute_result"
    }
   ],
   "source": [
    "# check again missing values in numerical variables in X_train\n",
    "\n",
    "X_train[numerical].isnull().sum()"
   ]
  },
  {
   "cell_type": "code",
   "execution_count": 18,
   "id": "ab7af899",
   "metadata": {
    "execution": {
     "iopub.execute_input": "2021-08-10T18:26:47.911241Z",
     "iopub.status.busy": "2021-08-10T18:26:47.910513Z",
     "iopub.status.idle": "2021-08-10T18:26:47.918774Z",
     "shell.execute_reply": "2021-08-10T18:26:47.918191Z",
     "shell.execute_reply.started": "2021-08-08T08:35:07.516057Z"
    },
    "papermill": {
     "duration": 0.097704,
     "end_time": "2021-08-10T18:26:47.918927",
     "exception": false,
     "start_time": "2021-08-10T18:26:47.821223",
     "status": "completed"
    },
    "tags": []
   },
   "outputs": [
    {
     "data": {
      "text/plain": [
       "MinTemp          0\n",
       "MaxTemp          0\n",
       "Rainfall         0\n",
       "Evaporation      0\n",
       "Sunshine         0\n",
       "WindGustSpeed    0\n",
       "WindSpeed9am     0\n",
       "WindSpeed3pm     0\n",
       "Humidity9am      0\n",
       "Humidity3pm      0\n",
       "Pressure9am      0\n",
       "Pressure3pm      0\n",
       "Cloud9am         0\n",
       "Cloud3pm         0\n",
       "Temp9am          0\n",
       "Temp3pm          0\n",
       "dtype: int64"
      ]
     },
     "execution_count": 18,
     "metadata": {},
     "output_type": "execute_result"
    }
   ],
   "source": [
    "# check missing values in numerical variables in X_test\n",
    "\n",
    "X_test[numerical].isnull().sum()"
   ]
  },
  {
   "cell_type": "markdown",
   "id": "79e38291",
   "metadata": {
    "papermill": {
     "duration": 0.083981,
     "end_time": "2021-08-10T18:26:48.085346",
     "exception": false,
     "start_time": "2021-08-10T18:26:48.001365",
     "status": "completed"
    },
    "tags": []
   },
   "source": [
    "Now, we can see that there are no missing values in the numerical columns of training and test set."
   ]
  },
  {
   "cell_type": "markdown",
   "id": "93e71b15",
   "metadata": {
    "papermill": {
     "duration": 0.081689,
     "end_time": "2021-08-10T18:26:48.250090",
     "exception": false,
     "start_time": "2021-08-10T18:26:48.168401",
     "status": "completed"
    },
    "tags": []
   },
   "source": [
    "### Handling missing values in categorical variables"
   ]
  },
  {
   "cell_type": "code",
   "execution_count": 19,
   "id": "081f8fc7",
   "metadata": {
    "execution": {
     "iopub.execute_input": "2021-08-10T18:26:48.420339Z",
     "iopub.status.busy": "2021-08-10T18:26:48.419623Z",
     "iopub.status.idle": "2021-08-10T18:26:48.502523Z",
     "shell.execute_reply": "2021-08-10T18:26:48.503069Z",
     "shell.execute_reply.started": "2021-08-08T08:35:07.529317Z"
    },
    "papermill": {
     "duration": 0.170697,
     "end_time": "2021-08-10T18:26:48.503243",
     "exception": false,
     "start_time": "2021-08-10T18:26:48.332546",
     "status": "completed"
    },
    "tags": []
   },
   "outputs": [
    {
     "data": {
      "text/plain": [
       "Date           0.000000\n",
       "Location       0.000000\n",
       "WindGustDir    0.071068\n",
       "WindDir9am     0.072597\n",
       "WindDir3pm     0.028951\n",
       "RainToday      0.022489\n",
       "dtype: float64"
      ]
     },
     "execution_count": 19,
     "metadata": {},
     "output_type": "execute_result"
    }
   ],
   "source": [
    "# print percentage of missing values in the categorical variables in training set\n",
    "\n",
    "X_train[categorical].isnull().mean()"
   ]
  },
  {
   "cell_type": "code",
   "execution_count": 20,
   "id": "d1fd927c",
   "metadata": {
    "execution": {
     "iopub.execute_input": "2021-08-10T18:26:48.686821Z",
     "iopub.status.busy": "2021-08-10T18:26:48.686136Z",
     "iopub.status.idle": "2021-08-10T18:26:48.800034Z",
     "shell.execute_reply": "2021-08-10T18:26:48.799364Z",
     "shell.execute_reply.started": "2021-08-08T08:35:07.61395Z"
    },
    "papermill": {
     "duration": 0.2143,
     "end_time": "2021-08-10T18:26:48.800195",
     "exception": false,
     "start_time": "2021-08-10T18:26:48.585895",
     "status": "completed"
    },
    "tags": []
   },
   "outputs": [
    {
     "name": "stdout",
     "output_type": "stream",
     "text": [
      "WindGustDir 0.07106764746322013\n",
      "WindDir9am 0.07259727760208992\n",
      "WindDir3pm 0.028951258077822083\n",
      "RainToday 0.02248900041248453\n"
     ]
    }
   ],
   "source": [
    "# print categorical variables with missing data\n",
    "\n",
    "for col in categorical:\n",
    "    if X_train[col].isnull().mean()>0:\n",
    "        print(col, (X_train[col].isnull().mean()))"
   ]
  },
  {
   "cell_type": "code",
   "execution_count": 21,
   "id": "561da630",
   "metadata": {
    "execution": {
     "iopub.execute_input": "2021-08-10T18:26:49.001957Z",
     "iopub.status.busy": "2021-08-10T18:26:48.989792Z",
     "iopub.status.idle": "2021-08-10T18:26:49.170908Z",
     "shell.execute_reply": "2021-08-10T18:26:49.171398Z",
     "shell.execute_reply.started": "2021-08-08T08:35:07.742074Z"
    },
    "papermill": {
     "duration": 0.287505,
     "end_time": "2021-08-10T18:26:49.171612",
     "exception": false,
     "start_time": "2021-08-10T18:26:48.884107",
     "status": "completed"
    },
    "tags": []
   },
   "outputs": [],
   "source": [
    "# impute missing categorical variables with most frequent value\n",
    "\n",
    "for df2 in [X_train, X_test]:\n",
    "    df2['WindGustDir'].fillna(X_train['WindGustDir'].mode()[0], inplace=True)\n",
    "    df2['WindDir9am'].fillna(X_train['WindDir9am'].mode()[0], inplace=True)\n",
    "    df2['WindDir3pm'].fillna(X_train['WindDir3pm'].mode()[0], inplace=True)\n",
    "    df2['RainToday'].fillna(X_train['RainToday'].mode()[0], inplace=True)"
   ]
  },
  {
   "cell_type": "code",
   "execution_count": 22,
   "id": "84eb9c84",
   "metadata": {
    "execution": {
     "iopub.execute_input": "2021-08-10T18:26:49.346767Z",
     "iopub.status.busy": "2021-08-10T18:26:49.346042Z",
     "iopub.status.idle": "2021-08-10T18:26:49.427926Z",
     "shell.execute_reply": "2021-08-10T18:26:49.427246Z",
     "shell.execute_reply.started": "2021-08-08T08:35:07.945146Z"
    },
    "papermill": {
     "duration": 0.172617,
     "end_time": "2021-08-10T18:26:49.428076",
     "exception": false,
     "start_time": "2021-08-10T18:26:49.255459",
     "status": "completed"
    },
    "tags": []
   },
   "outputs": [
    {
     "data": {
      "text/plain": [
       "Date           0\n",
       "Location       0\n",
       "WindGustDir    0\n",
       "WindDir9am     0\n",
       "WindDir3pm     0\n",
       "RainToday      0\n",
       "dtype: int64"
      ]
     },
     "execution_count": 22,
     "metadata": {},
     "output_type": "execute_result"
    }
   ],
   "source": [
    "# check missing values in categorical variables in X_train\n",
    "\n",
    "X_train[categorical].isnull().sum()"
   ]
  },
  {
   "cell_type": "code",
   "execution_count": 23,
   "id": "d6f13d40",
   "metadata": {
    "execution": {
     "iopub.execute_input": "2021-08-10T18:26:49.620411Z",
     "iopub.status.busy": "2021-08-10T18:26:49.601891Z",
     "iopub.status.idle": "2021-08-10T18:26:49.628093Z",
     "shell.execute_reply": "2021-08-10T18:26:49.628571Z",
     "shell.execute_reply.started": "2021-08-08T08:35:08.032122Z"
    },
    "papermill": {
     "duration": 0.116475,
     "end_time": "2021-08-10T18:26:49.628754",
     "exception": false,
     "start_time": "2021-08-10T18:26:49.512279",
     "status": "completed"
    },
    "tags": []
   },
   "outputs": [
    {
     "data": {
      "text/plain": [
       "Date           0\n",
       "Location       0\n",
       "WindGustDir    0\n",
       "WindDir9am     0\n",
       "WindDir3pm     0\n",
       "RainToday      0\n",
       "dtype: int64"
      ]
     },
     "execution_count": 23,
     "metadata": {},
     "output_type": "execute_result"
    }
   ],
   "source": [
    "# check missing values in categorical variables in X_test\n",
    "\n",
    "X_test[categorical].isnull().sum()"
   ]
  },
  {
   "cell_type": "markdown",
   "id": "d3f0e474",
   "metadata": {
    "papermill": {
     "duration": 0.083322,
     "end_time": "2021-08-10T18:26:49.796083",
     "exception": false,
     "start_time": "2021-08-10T18:26:49.712761",
     "status": "completed"
    },
    "tags": []
   },
   "source": [
    "As a final check, I will check for missing values in X_train and X_test."
   ]
  },
  {
   "cell_type": "code",
   "execution_count": 24,
   "id": "b0045bca",
   "metadata": {
    "execution": {
     "iopub.execute_input": "2021-08-10T18:26:50.039508Z",
     "iopub.status.busy": "2021-08-10T18:26:50.038788Z",
     "iopub.status.idle": "2021-08-10T18:26:50.052409Z",
     "shell.execute_reply": "2021-08-10T18:26:50.051741Z",
     "shell.execute_reply.started": "2021-08-08T08:35:08.061582Z"
    },
    "papermill": {
     "duration": 0.17246,
     "end_time": "2021-08-10T18:26:50.052576",
     "exception": false,
     "start_time": "2021-08-10T18:26:49.880116",
     "status": "completed"
    },
    "tags": []
   },
   "outputs": [
    {
     "data": {
      "text/plain": [
       "Date             0\n",
       "Location         0\n",
       "MinTemp          0\n",
       "MaxTemp          0\n",
       "Rainfall         0\n",
       "Evaporation      0\n",
       "Sunshine         0\n",
       "WindGustDir      0\n",
       "WindGustSpeed    0\n",
       "WindDir9am       0\n",
       "WindDir3pm       0\n",
       "WindSpeed9am     0\n",
       "WindSpeed3pm     0\n",
       "Humidity9am      0\n",
       "Humidity3pm      0\n",
       "Pressure9am      0\n",
       "Pressure3pm      0\n",
       "Cloud9am         0\n",
       "Cloud3pm         0\n",
       "Temp9am          0\n",
       "Temp3pm          0\n",
       "RainToday        0\n",
       "dtype: int64"
      ]
     },
     "execution_count": 24,
     "metadata": {},
     "output_type": "execute_result"
    }
   ],
   "source": [
    "# check missing values in X_train\n",
    "\n",
    "X_train.isnull().sum()"
   ]
  },
  {
   "cell_type": "code",
   "execution_count": 25,
   "id": "5b66ca6b",
   "metadata": {
    "execution": {
     "iopub.execute_input": "2021-08-10T18:26:50.227850Z",
     "iopub.status.busy": "2021-08-10T18:26:50.227126Z",
     "iopub.status.idle": "2021-08-10T18:26:50.254563Z",
     "shell.execute_reply": "2021-08-10T18:26:50.253997Z",
     "shell.execute_reply.started": "2021-08-08T08:35:08.146267Z"
    },
    "papermill": {
     "duration": 0.116402,
     "end_time": "2021-08-10T18:26:50.254717",
     "exception": false,
     "start_time": "2021-08-10T18:26:50.138315",
     "status": "completed"
    },
    "tags": []
   },
   "outputs": [
    {
     "data": {
      "text/plain": [
       "Date             0\n",
       "Location         0\n",
       "MinTemp          0\n",
       "MaxTemp          0\n",
       "Rainfall         0\n",
       "Evaporation      0\n",
       "Sunshine         0\n",
       "WindGustDir      0\n",
       "WindGustSpeed    0\n",
       "WindDir9am       0\n",
       "WindDir3pm       0\n",
       "WindSpeed9am     0\n",
       "WindSpeed3pm     0\n",
       "Humidity9am      0\n",
       "Humidity3pm      0\n",
       "Pressure9am      0\n",
       "Pressure3pm      0\n",
       "Cloud9am         0\n",
       "Cloud3pm         0\n",
       "Temp9am          0\n",
       "Temp3pm          0\n",
       "RainToday        0\n",
       "dtype: int64"
      ]
     },
     "execution_count": 25,
     "metadata": {},
     "output_type": "execute_result"
    }
   ],
   "source": [
    "# check missing values in X_test\n",
    "\n",
    "X_test.isnull().sum()"
   ]
  },
  {
   "cell_type": "markdown",
   "id": "edbb6434",
   "metadata": {
    "papermill": {
     "duration": 0.083854,
     "end_time": "2021-08-10T18:26:50.423290",
     "exception": false,
     "start_time": "2021-08-10T18:26:50.339436",
     "status": "completed"
    },
    "tags": []
   },
   "source": [
    "We can see that there are no missing values in X_train and X_test."
   ]
  },
  {
   "cell_type": "markdown",
   "id": "a2dc4614",
   "metadata": {
    "papermill": {
     "duration": 0.087032,
     "end_time": "2021-08-10T18:26:50.653317",
     "exception": false,
     "start_time": "2021-08-10T18:26:50.566285",
     "status": "completed"
    },
    "tags": []
   },
   "source": [
    "### The outliers in numerical variables"
   ]
  },
  {
   "cell_type": "code",
   "execution_count": 26,
   "id": "62032501",
   "metadata": {
    "execution": {
     "iopub.execute_input": "2021-08-10T18:26:50.832404Z",
     "iopub.status.busy": "2021-08-10T18:26:50.831688Z",
     "iopub.status.idle": "2021-08-10T18:26:50.860399Z",
     "shell.execute_reply": "2021-08-10T18:26:50.859860Z",
     "shell.execute_reply.started": "2021-08-08T08:35:08.179385Z"
    },
    "papermill": {
     "duration": 0.12198,
     "end_time": "2021-08-10T18:26:50.860574",
     "exception": false,
     "start_time": "2021-08-10T18:26:50.738594",
     "status": "completed"
    },
    "tags": []
   },
   "outputs": [],
   "source": [
    "def max_value(df3, variable, top):\n",
    "    return np.where(df3[variable]>top, top, df3[variable])\n",
    "\n",
    "for df3 in [X_train, X_test]:\n",
    "    df3['Rainfall'] = max_value(df3, 'Rainfall', 3.2)\n",
    "    df3['Evaporation'] = max_value(df3, 'Evaporation', 21.8)\n",
    "    df3['WindSpeed9am'] = max_value(df3, 'WindSpeed9am', 55)\n",
    "    df3['WindSpeed3pm'] = max_value(df3, 'WindSpeed3pm', 57)"
   ]
  },
  {
   "cell_type": "code",
   "execution_count": 27,
   "id": "d5c1d607",
   "metadata": {
    "execution": {
     "iopub.execute_input": "2021-08-10T18:26:51.037487Z",
     "iopub.status.busy": "2021-08-10T18:26:51.036652Z",
     "iopub.status.idle": "2021-08-10T18:26:51.042450Z",
     "shell.execute_reply": "2021-08-10T18:26:51.041929Z",
     "shell.execute_reply.started": "2021-08-08T08:35:08.212658Z"
    },
    "papermill": {
     "duration": 0.097808,
     "end_time": "2021-08-10T18:26:51.042611",
     "exception": false,
     "start_time": "2021-08-10T18:26:50.944803",
     "status": "completed"
    },
    "tags": []
   },
   "outputs": [
    {
     "data": {
      "text/plain": [
       "(3.2, 3.2)"
      ]
     },
     "execution_count": 27,
     "metadata": {},
     "output_type": "execute_result"
    }
   ],
   "source": [
    "X_train.Rainfall.max(), X_test.Rainfall.max()"
   ]
  },
  {
   "cell_type": "code",
   "execution_count": 28,
   "id": "1fc12f22",
   "metadata": {
    "execution": {
     "iopub.execute_input": "2021-08-10T18:26:51.219210Z",
     "iopub.status.busy": "2021-08-10T18:26:51.218539Z",
     "iopub.status.idle": "2021-08-10T18:26:51.222989Z",
     "shell.execute_reply": "2021-08-10T18:26:51.223635Z",
     "shell.execute_reply.started": "2021-08-08T08:35:08.221546Z"
    },
    "papermill": {
     "duration": 0.094477,
     "end_time": "2021-08-10T18:26:51.223815",
     "exception": false,
     "start_time": "2021-08-10T18:26:51.129338",
     "status": "completed"
    },
    "tags": []
   },
   "outputs": [
    {
     "data": {
      "text/plain": [
       "(21.8, 21.8)"
      ]
     },
     "execution_count": 28,
     "metadata": {},
     "output_type": "execute_result"
    }
   ],
   "source": [
    "X_train.Evaporation.max(), X_test.Evaporation.max()"
   ]
  },
  {
   "cell_type": "code",
   "execution_count": 29,
   "id": "03bd9736",
   "metadata": {
    "execution": {
     "iopub.execute_input": "2021-08-10T18:26:51.398537Z",
     "iopub.status.busy": "2021-08-10T18:26:51.397750Z",
     "iopub.status.idle": "2021-08-10T18:26:51.404426Z",
     "shell.execute_reply": "2021-08-10T18:26:51.405023Z",
     "shell.execute_reply.started": "2021-08-08T08:35:08.233376Z"
    },
    "papermill": {
     "duration": 0.096028,
     "end_time": "2021-08-10T18:26:51.405202",
     "exception": false,
     "start_time": "2021-08-10T18:26:51.309174",
     "status": "completed"
    },
    "tags": []
   },
   "outputs": [
    {
     "data": {
      "text/plain": [
       "(55.0, 55.0)"
      ]
     },
     "execution_count": 29,
     "metadata": {},
     "output_type": "execute_result"
    }
   ],
   "source": [
    "X_train.WindSpeed9am.max(), X_test.WindSpeed9am.max()"
   ]
  },
  {
   "cell_type": "code",
   "execution_count": 30,
   "id": "3a0671a1",
   "metadata": {
    "execution": {
     "iopub.execute_input": "2021-08-10T18:26:51.602297Z",
     "iopub.status.busy": "2021-08-10T18:26:51.601517Z",
     "iopub.status.idle": "2021-08-10T18:26:51.609190Z",
     "shell.execute_reply": "2021-08-10T18:26:51.608055Z",
     "shell.execute_reply.started": "2021-08-08T08:35:08.24306Z"
    },
    "papermill": {
     "duration": 0.118046,
     "end_time": "2021-08-10T18:26:51.609401",
     "exception": false,
     "start_time": "2021-08-10T18:26:51.491355",
     "status": "completed"
    },
    "tags": []
   },
   "outputs": [
    {
     "data": {
      "text/plain": [
       "(57.0, 57.0)"
      ]
     },
     "execution_count": 30,
     "metadata": {},
     "output_type": "execute_result"
    }
   ],
   "source": [
    "X_train.WindSpeed3pm.max(), X_test.WindSpeed3pm.max()"
   ]
  },
  {
   "cell_type": "code",
   "execution_count": 31,
   "id": "ce2ff03b",
   "metadata": {
    "execution": {
     "iopub.execute_input": "2021-08-10T18:26:51.791720Z",
     "iopub.status.busy": "2021-08-10T18:26:51.790966Z",
     "iopub.status.idle": "2021-08-10T18:26:51.933394Z",
     "shell.execute_reply": "2021-08-10T18:26:51.932863Z",
     "shell.execute_reply.started": "2021-08-08T08:35:08.252962Z"
    },
    "papermill": {
     "duration": 0.231532,
     "end_time": "2021-08-10T18:26:51.933571",
     "exception": false,
     "start_time": "2021-08-10T18:26:51.702039",
     "status": "completed"
    },
    "tags": []
   },
   "outputs": [
    {
     "data": {
      "text/html": [
       "<div>\n",
       "<style scoped>\n",
       "    .dataframe tbody tr th:only-of-type {\n",
       "        vertical-align: middle;\n",
       "    }\n",
       "\n",
       "    .dataframe tbody tr th {\n",
       "        vertical-align: top;\n",
       "    }\n",
       "\n",
       "    .dataframe thead th {\n",
       "        text-align: right;\n",
       "    }\n",
       "</style>\n",
       "<table border=\"1\" class=\"dataframe\">\n",
       "  <thead>\n",
       "    <tr style=\"text-align: right;\">\n",
       "      <th></th>\n",
       "      <th>MinTemp</th>\n",
       "      <th>MaxTemp</th>\n",
       "      <th>Rainfall</th>\n",
       "      <th>Evaporation</th>\n",
       "      <th>Sunshine</th>\n",
       "      <th>WindGustSpeed</th>\n",
       "      <th>WindSpeed9am</th>\n",
       "      <th>WindSpeed3pm</th>\n",
       "      <th>Humidity9am</th>\n",
       "      <th>Humidity3pm</th>\n",
       "      <th>Pressure9am</th>\n",
       "      <th>Pressure3pm</th>\n",
       "      <th>Cloud9am</th>\n",
       "      <th>Cloud3pm</th>\n",
       "      <th>Temp9am</th>\n",
       "      <th>Temp3pm</th>\n",
       "    </tr>\n",
       "  </thead>\n",
       "  <tbody>\n",
       "    <tr>\n",
       "      <th>count</th>\n",
       "      <td>116368.000000</td>\n",
       "      <td>116368.000000</td>\n",
       "      <td>116368.000000</td>\n",
       "      <td>116368.000000</td>\n",
       "      <td>116368.000000</td>\n",
       "      <td>116368.000000</td>\n",
       "      <td>116368.000000</td>\n",
       "      <td>116368.000000</td>\n",
       "      <td>116368.000000</td>\n",
       "      <td>116368.000000</td>\n",
       "      <td>116368.000000</td>\n",
       "      <td>116368.000000</td>\n",
       "      <td>116368.000000</td>\n",
       "      <td>116368.000000</td>\n",
       "      <td>116368.000000</td>\n",
       "      <td>116368.000000</td>\n",
       "    </tr>\n",
       "    <tr>\n",
       "      <th>mean</th>\n",
       "      <td>12.190189</td>\n",
       "      <td>23.203107</td>\n",
       "      <td>0.670800</td>\n",
       "      <td>5.093362</td>\n",
       "      <td>7.982476</td>\n",
       "      <td>39.982091</td>\n",
       "      <td>14.029381</td>\n",
       "      <td>18.687466</td>\n",
       "      <td>68.950691</td>\n",
       "      <td>51.605828</td>\n",
       "      <td>1017.639891</td>\n",
       "      <td>1015.244946</td>\n",
       "      <td>4.664092</td>\n",
       "      <td>4.710728</td>\n",
       "      <td>16.979454</td>\n",
       "      <td>21.657195</td>\n",
       "    </tr>\n",
       "    <tr>\n",
       "      <th>std</th>\n",
       "      <td>6.366893</td>\n",
       "      <td>7.085408</td>\n",
       "      <td>1.181512</td>\n",
       "      <td>2.800200</td>\n",
       "      <td>2.761639</td>\n",
       "      <td>13.127953</td>\n",
       "      <td>8.835596</td>\n",
       "      <td>8.700618</td>\n",
       "      <td>18.811437</td>\n",
       "      <td>20.439999</td>\n",
       "      <td>6.728234</td>\n",
       "      <td>6.661517</td>\n",
       "      <td>2.280687</td>\n",
       "      <td>2.106040</td>\n",
       "      <td>6.449641</td>\n",
       "      <td>6.848293</td>\n",
       "    </tr>\n",
       "    <tr>\n",
       "      <th>min</th>\n",
       "      <td>-8.500000</td>\n",
       "      <td>-4.800000</td>\n",
       "      <td>0.000000</td>\n",
       "      <td>0.000000</td>\n",
       "      <td>0.000000</td>\n",
       "      <td>6.000000</td>\n",
       "      <td>0.000000</td>\n",
       "      <td>0.000000</td>\n",
       "      <td>0.000000</td>\n",
       "      <td>0.000000</td>\n",
       "      <td>980.500000</td>\n",
       "      <td>977.100000</td>\n",
       "      <td>0.000000</td>\n",
       "      <td>0.000000</td>\n",
       "      <td>-7.200000</td>\n",
       "      <td>-5.400000</td>\n",
       "    </tr>\n",
       "    <tr>\n",
       "      <th>25%</th>\n",
       "      <td>7.700000</td>\n",
       "      <td>18.000000</td>\n",
       "      <td>0.000000</td>\n",
       "      <td>4.000000</td>\n",
       "      <td>8.200000</td>\n",
       "      <td>31.000000</td>\n",
       "      <td>7.000000</td>\n",
       "      <td>13.000000</td>\n",
       "      <td>57.000000</td>\n",
       "      <td>37.000000</td>\n",
       "      <td>1013.500000</td>\n",
       "      <td>1011.100000</td>\n",
       "      <td>3.000000</td>\n",
       "      <td>4.000000</td>\n",
       "      <td>12.300000</td>\n",
       "      <td>16.700000</td>\n",
       "    </tr>\n",
       "    <tr>\n",
       "      <th>50%</th>\n",
       "      <td>12.000000</td>\n",
       "      <td>22.600000</td>\n",
       "      <td>0.000000</td>\n",
       "      <td>4.700000</td>\n",
       "      <td>8.400000</td>\n",
       "      <td>39.000000</td>\n",
       "      <td>13.000000</td>\n",
       "      <td>19.000000</td>\n",
       "      <td>70.000000</td>\n",
       "      <td>52.000000</td>\n",
       "      <td>1017.600000</td>\n",
       "      <td>1015.200000</td>\n",
       "      <td>5.000000</td>\n",
       "      <td>5.000000</td>\n",
       "      <td>16.700000</td>\n",
       "      <td>21.100000</td>\n",
       "    </tr>\n",
       "    <tr>\n",
       "      <th>75%</th>\n",
       "      <td>16.800000</td>\n",
       "      <td>28.200000</td>\n",
       "      <td>0.600000</td>\n",
       "      <td>5.200000</td>\n",
       "      <td>8.600000</td>\n",
       "      <td>46.000000</td>\n",
       "      <td>19.000000</td>\n",
       "      <td>24.000000</td>\n",
       "      <td>83.000000</td>\n",
       "      <td>65.000000</td>\n",
       "      <td>1021.800000</td>\n",
       "      <td>1019.400000</td>\n",
       "      <td>6.000000</td>\n",
       "      <td>6.000000</td>\n",
       "      <td>21.500000</td>\n",
       "      <td>26.200000</td>\n",
       "    </tr>\n",
       "    <tr>\n",
       "      <th>max</th>\n",
       "      <td>31.900000</td>\n",
       "      <td>48.100000</td>\n",
       "      <td>3.200000</td>\n",
       "      <td>21.800000</td>\n",
       "      <td>14.500000</td>\n",
       "      <td>135.000000</td>\n",
       "      <td>55.000000</td>\n",
       "      <td>57.000000</td>\n",
       "      <td>100.000000</td>\n",
       "      <td>100.000000</td>\n",
       "      <td>1041.000000</td>\n",
       "      <td>1039.600000</td>\n",
       "      <td>9.000000</td>\n",
       "      <td>8.000000</td>\n",
       "      <td>40.200000</td>\n",
       "      <td>46.700000</td>\n",
       "    </tr>\n",
       "  </tbody>\n",
       "</table>\n",
       "</div>"
      ],
      "text/plain": [
       "             MinTemp        MaxTemp       Rainfall    Evaporation  \\\n",
       "count  116368.000000  116368.000000  116368.000000  116368.000000   \n",
       "mean       12.190189      23.203107       0.670800       5.093362   \n",
       "std         6.366893       7.085408       1.181512       2.800200   \n",
       "min        -8.500000      -4.800000       0.000000       0.000000   \n",
       "25%         7.700000      18.000000       0.000000       4.000000   \n",
       "50%        12.000000      22.600000       0.000000       4.700000   \n",
       "75%        16.800000      28.200000       0.600000       5.200000   \n",
       "max        31.900000      48.100000       3.200000      21.800000   \n",
       "\n",
       "            Sunshine  WindGustSpeed   WindSpeed9am   WindSpeed3pm  \\\n",
       "count  116368.000000  116368.000000  116368.000000  116368.000000   \n",
       "mean        7.982476      39.982091      14.029381      18.687466   \n",
       "std         2.761639      13.127953       8.835596       8.700618   \n",
       "min         0.000000       6.000000       0.000000       0.000000   \n",
       "25%         8.200000      31.000000       7.000000      13.000000   \n",
       "50%         8.400000      39.000000      13.000000      19.000000   \n",
       "75%         8.600000      46.000000      19.000000      24.000000   \n",
       "max        14.500000     135.000000      55.000000      57.000000   \n",
       "\n",
       "         Humidity9am    Humidity3pm    Pressure9am    Pressure3pm  \\\n",
       "count  116368.000000  116368.000000  116368.000000  116368.000000   \n",
       "mean       68.950691      51.605828    1017.639891    1015.244946   \n",
       "std        18.811437      20.439999       6.728234       6.661517   \n",
       "min         0.000000       0.000000     980.500000     977.100000   \n",
       "25%        57.000000      37.000000    1013.500000    1011.100000   \n",
       "50%        70.000000      52.000000    1017.600000    1015.200000   \n",
       "75%        83.000000      65.000000    1021.800000    1019.400000   \n",
       "max       100.000000     100.000000    1041.000000    1039.600000   \n",
       "\n",
       "            Cloud9am       Cloud3pm        Temp9am        Temp3pm  \n",
       "count  116368.000000  116368.000000  116368.000000  116368.000000  \n",
       "mean        4.664092       4.710728      16.979454      21.657195  \n",
       "std         2.280687       2.106040       6.449641       6.848293  \n",
       "min         0.000000       0.000000      -7.200000      -5.400000  \n",
       "25%         3.000000       4.000000      12.300000      16.700000  \n",
       "50%         5.000000       5.000000      16.700000      21.100000  \n",
       "75%         6.000000       6.000000      21.500000      26.200000  \n",
       "max         9.000000       8.000000      40.200000      46.700000  "
      ]
     },
     "execution_count": 31,
     "metadata": {},
     "output_type": "execute_result"
    }
   ],
   "source": [
    "X_train[numerical].describe()"
   ]
  },
  {
   "cell_type": "markdown",
   "id": "8ce01bfd",
   "metadata": {
    "papermill": {
     "duration": 0.086474,
     "end_time": "2021-08-10T18:26:52.107713",
     "exception": false,
     "start_time": "2021-08-10T18:26:52.021239",
     "status": "completed"
    },
    "tags": []
   },
   "source": [
    "### Encode categorical variables"
   ]
  },
  {
   "cell_type": "code",
   "execution_count": 32,
   "id": "1257e339",
   "metadata": {
    "execution": {
     "iopub.execute_input": "2021-08-10T18:26:52.287104Z",
     "iopub.status.busy": "2021-08-10T18:26:52.286333Z",
     "iopub.status.idle": "2021-08-10T18:26:52.290415Z",
     "shell.execute_reply": "2021-08-10T18:26:52.289787Z",
     "shell.execute_reply.started": "2021-08-08T08:35:08.389977Z"
    },
    "papermill": {
     "duration": 0.095507,
     "end_time": "2021-08-10T18:26:52.290608",
     "exception": false,
     "start_time": "2021-08-10T18:26:52.195101",
     "status": "completed"
    },
    "tags": []
   },
   "outputs": [
    {
     "data": {
      "text/plain": [
       "['Date', 'Location', 'WindGustDir', 'WindDir9am', 'WindDir3pm', 'RainToday']"
      ]
     },
     "execution_count": 32,
     "metadata": {},
     "output_type": "execute_result"
    }
   ],
   "source": [
    "categorical"
   ]
  },
  {
   "cell_type": "code",
   "execution_count": 33,
   "id": "74ff08da",
   "metadata": {
    "execution": {
     "iopub.execute_input": "2021-08-10T18:26:52.488090Z",
     "iopub.status.busy": "2021-08-10T18:26:52.487046Z",
     "iopub.status.idle": "2021-08-10T18:26:52.492229Z",
     "shell.execute_reply": "2021-08-10T18:26:52.491460Z",
     "shell.execute_reply.started": "2021-08-08T08:35:08.396441Z"
    },
    "papermill": {
     "duration": 0.114195,
     "end_time": "2021-08-10T18:26:52.492394",
     "exception": false,
     "start_time": "2021-08-10T18:26:52.378199",
     "status": "completed"
    },
    "tags": []
   },
   "outputs": [
    {
     "data": {
      "text/html": [
       "<div>\n",
       "<style scoped>\n",
       "    .dataframe tbody tr th:only-of-type {\n",
       "        vertical-align: middle;\n",
       "    }\n",
       "\n",
       "    .dataframe tbody tr th {\n",
       "        vertical-align: top;\n",
       "    }\n",
       "\n",
       "    .dataframe thead th {\n",
       "        text-align: right;\n",
       "    }\n",
       "</style>\n",
       "<table border=\"1\" class=\"dataframe\">\n",
       "  <thead>\n",
       "    <tr style=\"text-align: right;\">\n",
       "      <th></th>\n",
       "      <th>Date</th>\n",
       "      <th>Location</th>\n",
       "      <th>WindGustDir</th>\n",
       "      <th>WindDir9am</th>\n",
       "      <th>WindDir3pm</th>\n",
       "      <th>RainToday</th>\n",
       "    </tr>\n",
       "  </thead>\n",
       "  <tbody>\n",
       "    <tr>\n",
       "      <th>22926</th>\n",
       "      <td>2014-03-12</td>\n",
       "      <td>NorfolkIsland</td>\n",
       "      <td>ESE</td>\n",
       "      <td>ESE</td>\n",
       "      <td>ESE</td>\n",
       "      <td>No</td>\n",
       "    </tr>\n",
       "    <tr>\n",
       "      <th>80735</th>\n",
       "      <td>2016-10-06</td>\n",
       "      <td>Watsonia</td>\n",
       "      <td>NE</td>\n",
       "      <td>NNW</td>\n",
       "      <td>NNE</td>\n",
       "      <td>No</td>\n",
       "    </tr>\n",
       "    <tr>\n",
       "      <th>121764</th>\n",
       "      <td>2011-08-31</td>\n",
       "      <td>Perth</td>\n",
       "      <td>SW</td>\n",
       "      <td>N</td>\n",
       "      <td>SW</td>\n",
       "      <td>Yes</td>\n",
       "    </tr>\n",
       "    <tr>\n",
       "      <th>139821</th>\n",
       "      <td>2010-06-11</td>\n",
       "      <td>Darwin</td>\n",
       "      <td>ESE</td>\n",
       "      <td>ESE</td>\n",
       "      <td>E</td>\n",
       "      <td>No</td>\n",
       "    </tr>\n",
       "    <tr>\n",
       "      <th>1867</th>\n",
       "      <td>2014-04-10</td>\n",
       "      <td>Albury</td>\n",
       "      <td>E</td>\n",
       "      <td>ESE</td>\n",
       "      <td>E</td>\n",
       "      <td>Yes</td>\n",
       "    </tr>\n",
       "  </tbody>\n",
       "</table>\n",
       "</div>"
      ],
      "text/plain": [
       "              Date       Location WindGustDir WindDir9am WindDir3pm RainToday\n",
       "22926   2014-03-12  NorfolkIsland         ESE        ESE        ESE        No\n",
       "80735   2016-10-06       Watsonia          NE        NNW        NNE        No\n",
       "121764  2011-08-31          Perth          SW          N         SW       Yes\n",
       "139821  2010-06-11         Darwin         ESE        ESE          E        No\n",
       "1867    2014-04-10         Albury           E        ESE          E       Yes"
      ]
     },
     "execution_count": 33,
     "metadata": {},
     "output_type": "execute_result"
    }
   ],
   "source": [
    "X_train[categorical].head()"
   ]
  },
  {
   "cell_type": "code",
   "execution_count": 34,
   "id": "6972129e",
   "metadata": {
    "execution": {
     "iopub.execute_input": "2021-08-10T18:26:52.673801Z",
     "iopub.status.busy": "2021-08-10T18:26:52.673107Z",
     "iopub.status.idle": "2021-08-10T18:26:53.214222Z",
     "shell.execute_reply": "2021-08-10T18:26:53.214753Z",
     "shell.execute_reply.started": "2021-08-08T08:35:08.424974Z"
    },
    "papermill": {
     "duration": 0.63451,
     "end_time": "2021-08-10T18:26:53.214958",
     "exception": false,
     "start_time": "2021-08-10T18:26:52.580448",
     "status": "completed"
    },
    "tags": []
   },
   "outputs": [],
   "source": [
    "# encode RainToday variable\n",
    "\n",
    "import category_encoders as ce\n",
    "encoder = ce.BinaryEncoder(cols=['RainToday'])\n",
    "X_train = encoder.fit_transform(X_train)\n",
    "X_test = encoder.transform(X_test)"
   ]
  },
  {
   "cell_type": "code",
   "execution_count": 35,
   "id": "75cecb8c",
   "metadata": {
    "execution": {
     "iopub.execute_input": "2021-08-10T18:26:53.393864Z",
     "iopub.status.busy": "2021-08-10T18:26:53.393160Z",
     "iopub.status.idle": "2021-08-10T18:26:53.425523Z",
     "shell.execute_reply": "2021-08-10T18:26:53.426057Z",
     "shell.execute_reply.started": "2021-08-08T08:35:08.942056Z"
    },
    "papermill": {
     "duration": 0.123387,
     "end_time": "2021-08-10T18:26:53.426242",
     "exception": false,
     "start_time": "2021-08-10T18:26:53.302855",
     "status": "completed"
    },
    "tags": []
   },
   "outputs": [
    {
     "data": {
      "text/html": [
       "<div>\n",
       "<style scoped>\n",
       "    .dataframe tbody tr th:only-of-type {\n",
       "        vertical-align: middle;\n",
       "    }\n",
       "\n",
       "    .dataframe tbody tr th {\n",
       "        vertical-align: top;\n",
       "    }\n",
       "\n",
       "    .dataframe thead th {\n",
       "        text-align: right;\n",
       "    }\n",
       "</style>\n",
       "<table border=\"1\" class=\"dataframe\">\n",
       "  <thead>\n",
       "    <tr style=\"text-align: right;\">\n",
       "      <th></th>\n",
       "      <th>Date</th>\n",
       "      <th>Location</th>\n",
       "      <th>MinTemp</th>\n",
       "      <th>MaxTemp</th>\n",
       "      <th>Rainfall</th>\n",
       "      <th>Evaporation</th>\n",
       "      <th>Sunshine</th>\n",
       "      <th>WindGustDir</th>\n",
       "      <th>WindGustSpeed</th>\n",
       "      <th>WindDir9am</th>\n",
       "      <th>...</th>\n",
       "      <th>Humidity9am</th>\n",
       "      <th>Humidity3pm</th>\n",
       "      <th>Pressure9am</th>\n",
       "      <th>Pressure3pm</th>\n",
       "      <th>Cloud9am</th>\n",
       "      <th>Cloud3pm</th>\n",
       "      <th>Temp9am</th>\n",
       "      <th>Temp3pm</th>\n",
       "      <th>RainToday_0</th>\n",
       "      <th>RainToday_1</th>\n",
       "    </tr>\n",
       "  </thead>\n",
       "  <tbody>\n",
       "    <tr>\n",
       "      <th>22926</th>\n",
       "      <td>2014-03-12</td>\n",
       "      <td>NorfolkIsland</td>\n",
       "      <td>18.8</td>\n",
       "      <td>23.7</td>\n",
       "      <td>0.2</td>\n",
       "      <td>5.0</td>\n",
       "      <td>7.3</td>\n",
       "      <td>ESE</td>\n",
       "      <td>52.0</td>\n",
       "      <td>ESE</td>\n",
       "      <td>...</td>\n",
       "      <td>74.0</td>\n",
       "      <td>73.0</td>\n",
       "      <td>1016.6</td>\n",
       "      <td>1013.9</td>\n",
       "      <td>5.0</td>\n",
       "      <td>7.0</td>\n",
       "      <td>21.4</td>\n",
       "      <td>22.2</td>\n",
       "      <td>0</td>\n",
       "      <td>1</td>\n",
       "    </tr>\n",
       "    <tr>\n",
       "      <th>80735</th>\n",
       "      <td>2016-10-06</td>\n",
       "      <td>Watsonia</td>\n",
       "      <td>9.3</td>\n",
       "      <td>24.0</td>\n",
       "      <td>0.2</td>\n",
       "      <td>1.6</td>\n",
       "      <td>10.9</td>\n",
       "      <td>NE</td>\n",
       "      <td>48.0</td>\n",
       "      <td>NNW</td>\n",
       "      <td>...</td>\n",
       "      <td>74.0</td>\n",
       "      <td>55.0</td>\n",
       "      <td>1018.3</td>\n",
       "      <td>1014.6</td>\n",
       "      <td>3.0</td>\n",
       "      <td>5.0</td>\n",
       "      <td>14.3</td>\n",
       "      <td>23.2</td>\n",
       "      <td>0</td>\n",
       "      <td>1</td>\n",
       "    </tr>\n",
       "    <tr>\n",
       "      <th>121764</th>\n",
       "      <td>2011-08-31</td>\n",
       "      <td>Perth</td>\n",
       "      <td>10.9</td>\n",
       "      <td>22.2</td>\n",
       "      <td>1.4</td>\n",
       "      <td>1.2</td>\n",
       "      <td>9.6</td>\n",
       "      <td>SW</td>\n",
       "      <td>26.0</td>\n",
       "      <td>N</td>\n",
       "      <td>...</td>\n",
       "      <td>85.0</td>\n",
       "      <td>47.0</td>\n",
       "      <td>1017.6</td>\n",
       "      <td>1014.9</td>\n",
       "      <td>1.0</td>\n",
       "      <td>2.0</td>\n",
       "      <td>16.6</td>\n",
       "      <td>21.5</td>\n",
       "      <td>1</td>\n",
       "      <td>0</td>\n",
       "    </tr>\n",
       "    <tr>\n",
       "      <th>139821</th>\n",
       "      <td>2010-06-11</td>\n",
       "      <td>Darwin</td>\n",
       "      <td>19.3</td>\n",
       "      <td>29.9</td>\n",
       "      <td>0.0</td>\n",
       "      <td>9.2</td>\n",
       "      <td>11.0</td>\n",
       "      <td>ESE</td>\n",
       "      <td>43.0</td>\n",
       "      <td>ESE</td>\n",
       "      <td>...</td>\n",
       "      <td>44.0</td>\n",
       "      <td>37.0</td>\n",
       "      <td>1015.9</td>\n",
       "      <td>1012.1</td>\n",
       "      <td>1.0</td>\n",
       "      <td>1.0</td>\n",
       "      <td>23.2</td>\n",
       "      <td>29.1</td>\n",
       "      <td>0</td>\n",
       "      <td>1</td>\n",
       "    </tr>\n",
       "    <tr>\n",
       "      <th>1867</th>\n",
       "      <td>2014-04-10</td>\n",
       "      <td>Albury</td>\n",
       "      <td>15.7</td>\n",
       "      <td>17.6</td>\n",
       "      <td>3.2</td>\n",
       "      <td>4.7</td>\n",
       "      <td>8.4</td>\n",
       "      <td>E</td>\n",
       "      <td>20.0</td>\n",
       "      <td>ESE</td>\n",
       "      <td>...</td>\n",
       "      <td>100.0</td>\n",
       "      <td>100.0</td>\n",
       "      <td>1015.2</td>\n",
       "      <td>1010.5</td>\n",
       "      <td>8.0</td>\n",
       "      <td>8.0</td>\n",
       "      <td>16.5</td>\n",
       "      <td>17.3</td>\n",
       "      <td>1</td>\n",
       "      <td>0</td>\n",
       "    </tr>\n",
       "  </tbody>\n",
       "</table>\n",
       "<p>5 rows × 23 columns</p>\n",
       "</div>"
      ],
      "text/plain": [
       "              Date       Location  MinTemp  MaxTemp  Rainfall  Evaporation  \\\n",
       "22926   2014-03-12  NorfolkIsland     18.8     23.7       0.2          5.0   \n",
       "80735   2016-10-06       Watsonia      9.3     24.0       0.2          1.6   \n",
       "121764  2011-08-31          Perth     10.9     22.2       1.4          1.2   \n",
       "139821  2010-06-11         Darwin     19.3     29.9       0.0          9.2   \n",
       "1867    2014-04-10         Albury     15.7     17.6       3.2          4.7   \n",
       "\n",
       "        Sunshine WindGustDir  WindGustSpeed WindDir9am  ... Humidity9am  \\\n",
       "22926        7.3         ESE           52.0        ESE  ...        74.0   \n",
       "80735       10.9          NE           48.0        NNW  ...        74.0   \n",
       "121764       9.6          SW           26.0          N  ...        85.0   \n",
       "139821      11.0         ESE           43.0        ESE  ...        44.0   \n",
       "1867         8.4           E           20.0        ESE  ...       100.0   \n",
       "\n",
       "        Humidity3pm  Pressure9am  Pressure3pm  Cloud9am  Cloud3pm  Temp9am  \\\n",
       "22926          73.0       1016.6       1013.9       5.0       7.0     21.4   \n",
       "80735          55.0       1018.3       1014.6       3.0       5.0     14.3   \n",
       "121764         47.0       1017.6       1014.9       1.0       2.0     16.6   \n",
       "139821         37.0       1015.9       1012.1       1.0       1.0     23.2   \n",
       "1867          100.0       1015.2       1010.5       8.0       8.0     16.5   \n",
       "\n",
       "        Temp3pm  RainToday_0  RainToday_1  \n",
       "22926      22.2            0            1  \n",
       "80735      23.2            0            1  \n",
       "121764     21.5            1            0  \n",
       "139821     29.1            0            1  \n",
       "1867       17.3            1            0  \n",
       "\n",
       "[5 rows x 23 columns]"
      ]
     },
     "execution_count": 35,
     "metadata": {},
     "output_type": "execute_result"
    }
   ],
   "source": [
    "X_train.head()"
   ]
  },
  {
   "cell_type": "code",
   "execution_count": 36,
   "id": "cf46f4e0",
   "metadata": {
    "execution": {
     "iopub.execute_input": "2021-08-10T18:26:53.606700Z",
     "iopub.status.busy": "2021-08-10T18:26:53.605719Z",
     "iopub.status.idle": "2021-08-10T18:26:53.688573Z",
     "shell.execute_reply": "2021-08-10T18:26:53.689066Z",
     "shell.execute_reply.started": "2021-08-08T08:35:08.979131Z"
    },
    "papermill": {
     "duration": 0.174366,
     "end_time": "2021-08-10T18:26:53.689249",
     "exception": false,
     "start_time": "2021-08-10T18:26:53.514883",
     "status": "completed"
    },
    "tags": []
   },
   "outputs": [],
   "source": [
    "X_train = pd.concat([X_train[numerical], X_train[['RainToday_0', 'RainToday_1']],\n",
    "                     pd.get_dummies(X_train.Location), \n",
    "                     pd.get_dummies(X_train.WindGustDir),\n",
    "                     pd.get_dummies(X_train.WindDir9am),\n",
    "                     pd.get_dummies(X_train.WindDir3pm)], axis=1)"
   ]
  },
  {
   "cell_type": "code",
   "execution_count": 37,
   "id": "53479494",
   "metadata": {
    "execution": {
     "iopub.execute_input": "2021-08-10T18:26:53.870762Z",
     "iopub.status.busy": "2021-08-10T18:26:53.869757Z",
     "iopub.status.idle": "2021-08-10T18:26:53.897118Z",
     "shell.execute_reply": "2021-08-10T18:26:53.896441Z",
     "shell.execute_reply.started": "2021-08-08T08:35:09.067099Z"
    },
    "papermill": {
     "duration": 0.120179,
     "end_time": "2021-08-10T18:26:53.897279",
     "exception": false,
     "start_time": "2021-08-10T18:26:53.777100",
     "status": "completed"
    },
    "tags": []
   },
   "outputs": [
    {
     "data": {
      "text/html": [
       "<div>\n",
       "<style scoped>\n",
       "    .dataframe tbody tr th:only-of-type {\n",
       "        vertical-align: middle;\n",
       "    }\n",
       "\n",
       "    .dataframe tbody tr th {\n",
       "        vertical-align: top;\n",
       "    }\n",
       "\n",
       "    .dataframe thead th {\n",
       "        text-align: right;\n",
       "    }\n",
       "</style>\n",
       "<table border=\"1\" class=\"dataframe\">\n",
       "  <thead>\n",
       "    <tr style=\"text-align: right;\">\n",
       "      <th></th>\n",
       "      <th>MinTemp</th>\n",
       "      <th>MaxTemp</th>\n",
       "      <th>Rainfall</th>\n",
       "      <th>Evaporation</th>\n",
       "      <th>Sunshine</th>\n",
       "      <th>WindGustSpeed</th>\n",
       "      <th>WindSpeed9am</th>\n",
       "      <th>WindSpeed3pm</th>\n",
       "      <th>Humidity9am</th>\n",
       "      <th>Humidity3pm</th>\n",
       "      <th>...</th>\n",
       "      <th>NNW</th>\n",
       "      <th>NW</th>\n",
       "      <th>S</th>\n",
       "      <th>SE</th>\n",
       "      <th>SSE</th>\n",
       "      <th>SSW</th>\n",
       "      <th>SW</th>\n",
       "      <th>W</th>\n",
       "      <th>WNW</th>\n",
       "      <th>WSW</th>\n",
       "    </tr>\n",
       "  </thead>\n",
       "  <tbody>\n",
       "    <tr>\n",
       "      <th>22926</th>\n",
       "      <td>18.8</td>\n",
       "      <td>23.7</td>\n",
       "      <td>0.2</td>\n",
       "      <td>5.0</td>\n",
       "      <td>7.3</td>\n",
       "      <td>52.0</td>\n",
       "      <td>31.0</td>\n",
       "      <td>28.0</td>\n",
       "      <td>74.0</td>\n",
       "      <td>73.0</td>\n",
       "      <td>...</td>\n",
       "      <td>0</td>\n",
       "      <td>0</td>\n",
       "      <td>0</td>\n",
       "      <td>0</td>\n",
       "      <td>0</td>\n",
       "      <td>0</td>\n",
       "      <td>0</td>\n",
       "      <td>0</td>\n",
       "      <td>0</td>\n",
       "      <td>0</td>\n",
       "    </tr>\n",
       "    <tr>\n",
       "      <th>80735</th>\n",
       "      <td>9.3</td>\n",
       "      <td>24.0</td>\n",
       "      <td>0.2</td>\n",
       "      <td>1.6</td>\n",
       "      <td>10.9</td>\n",
       "      <td>48.0</td>\n",
       "      <td>13.0</td>\n",
       "      <td>24.0</td>\n",
       "      <td>74.0</td>\n",
       "      <td>55.0</td>\n",
       "      <td>...</td>\n",
       "      <td>0</td>\n",
       "      <td>0</td>\n",
       "      <td>0</td>\n",
       "      <td>0</td>\n",
       "      <td>0</td>\n",
       "      <td>0</td>\n",
       "      <td>0</td>\n",
       "      <td>0</td>\n",
       "      <td>0</td>\n",
       "      <td>0</td>\n",
       "    </tr>\n",
       "    <tr>\n",
       "      <th>121764</th>\n",
       "      <td>10.9</td>\n",
       "      <td>22.2</td>\n",
       "      <td>1.4</td>\n",
       "      <td>1.2</td>\n",
       "      <td>9.6</td>\n",
       "      <td>26.0</td>\n",
       "      <td>0.0</td>\n",
       "      <td>11.0</td>\n",
       "      <td>85.0</td>\n",
       "      <td>47.0</td>\n",
       "      <td>...</td>\n",
       "      <td>0</td>\n",
       "      <td>0</td>\n",
       "      <td>0</td>\n",
       "      <td>0</td>\n",
       "      <td>0</td>\n",
       "      <td>0</td>\n",
       "      <td>1</td>\n",
       "      <td>0</td>\n",
       "      <td>0</td>\n",
       "      <td>0</td>\n",
       "    </tr>\n",
       "    <tr>\n",
       "      <th>139821</th>\n",
       "      <td>19.3</td>\n",
       "      <td>29.9</td>\n",
       "      <td>0.0</td>\n",
       "      <td>9.2</td>\n",
       "      <td>11.0</td>\n",
       "      <td>43.0</td>\n",
       "      <td>26.0</td>\n",
       "      <td>17.0</td>\n",
       "      <td>44.0</td>\n",
       "      <td>37.0</td>\n",
       "      <td>...</td>\n",
       "      <td>0</td>\n",
       "      <td>0</td>\n",
       "      <td>0</td>\n",
       "      <td>0</td>\n",
       "      <td>0</td>\n",
       "      <td>0</td>\n",
       "      <td>0</td>\n",
       "      <td>0</td>\n",
       "      <td>0</td>\n",
       "      <td>0</td>\n",
       "    </tr>\n",
       "    <tr>\n",
       "      <th>1867</th>\n",
       "      <td>15.7</td>\n",
       "      <td>17.6</td>\n",
       "      <td>3.2</td>\n",
       "      <td>4.7</td>\n",
       "      <td>8.4</td>\n",
       "      <td>20.0</td>\n",
       "      <td>11.0</td>\n",
       "      <td>13.0</td>\n",
       "      <td>100.0</td>\n",
       "      <td>100.0</td>\n",
       "      <td>...</td>\n",
       "      <td>0</td>\n",
       "      <td>0</td>\n",
       "      <td>0</td>\n",
       "      <td>0</td>\n",
       "      <td>0</td>\n",
       "      <td>0</td>\n",
       "      <td>0</td>\n",
       "      <td>0</td>\n",
       "      <td>0</td>\n",
       "      <td>0</td>\n",
       "    </tr>\n",
       "  </tbody>\n",
       "</table>\n",
       "<p>5 rows × 115 columns</p>\n",
       "</div>"
      ],
      "text/plain": [
       "        MinTemp  MaxTemp  Rainfall  Evaporation  Sunshine  WindGustSpeed  \\\n",
       "22926      18.8     23.7       0.2          5.0       7.3           52.0   \n",
       "80735       9.3     24.0       0.2          1.6      10.9           48.0   \n",
       "121764     10.9     22.2       1.4          1.2       9.6           26.0   \n",
       "139821     19.3     29.9       0.0          9.2      11.0           43.0   \n",
       "1867       15.7     17.6       3.2          4.7       8.4           20.0   \n",
       "\n",
       "        WindSpeed9am  WindSpeed3pm  Humidity9am  Humidity3pm  ...  NNW  NW  S  \\\n",
       "22926           31.0          28.0         74.0         73.0  ...    0   0  0   \n",
       "80735           13.0          24.0         74.0         55.0  ...    0   0  0   \n",
       "121764           0.0          11.0         85.0         47.0  ...    0   0  0   \n",
       "139821          26.0          17.0         44.0         37.0  ...    0   0  0   \n",
       "1867            11.0          13.0        100.0        100.0  ...    0   0  0   \n",
       "\n",
       "        SE  SSE  SSW  SW  W  WNW  WSW  \n",
       "22926    0    0    0   0  0    0    0  \n",
       "80735    0    0    0   0  0    0    0  \n",
       "121764   0    0    0   1  0    0    0  \n",
       "139821   0    0    0   0  0    0    0  \n",
       "1867     0    0    0   0  0    0    0  \n",
       "\n",
       "[5 rows x 115 columns]"
      ]
     },
     "execution_count": 37,
     "metadata": {},
     "output_type": "execute_result"
    }
   ],
   "source": [
    "X_train.head()"
   ]
  },
  {
   "cell_type": "code",
   "execution_count": 38,
   "id": "ecf90518",
   "metadata": {
    "execution": {
     "iopub.execute_input": "2021-08-10T18:26:54.089350Z",
     "iopub.status.busy": "2021-08-10T18:26:54.087804Z",
     "iopub.status.idle": "2021-08-10T18:26:54.111087Z",
     "shell.execute_reply": "2021-08-10T18:26:54.111591Z",
     "shell.execute_reply.started": "2021-08-08T08:35:09.094713Z"
    },
    "papermill": {
     "duration": 0.123914,
     "end_time": "2021-08-10T18:26:54.111777",
     "exception": false,
     "start_time": "2021-08-10T18:26:53.987863",
     "status": "completed"
    },
    "tags": []
   },
   "outputs": [],
   "source": [
    "X_test = pd.concat([X_test[numerical], X_test[['RainToday_0', 'RainToday_1']],\n",
    "                     pd.get_dummies(X_test.Location), \n",
    "                     pd.get_dummies(X_test.WindGustDir),\n",
    "                     pd.get_dummies(X_test.WindDir9am),\n",
    "                     pd.get_dummies(X_test.WindDir3pm)], axis=1)"
   ]
  },
  {
   "cell_type": "code",
   "execution_count": 39,
   "id": "fe3f9bd8",
   "metadata": {
    "execution": {
     "iopub.execute_input": "2021-08-10T18:26:54.311225Z",
     "iopub.status.busy": "2021-08-10T18:26:54.300559Z",
     "iopub.status.idle": "2021-08-10T18:26:54.320112Z",
     "shell.execute_reply": "2021-08-10T18:26:54.319581Z",
     "shell.execute_reply.started": "2021-08-08T08:35:09.129651Z"
    },
    "papermill": {
     "duration": 0.120051,
     "end_time": "2021-08-10T18:26:54.320247",
     "exception": false,
     "start_time": "2021-08-10T18:26:54.200196",
     "status": "completed"
    },
    "tags": []
   },
   "outputs": [
    {
     "data": {
      "text/html": [
       "<div>\n",
       "<style scoped>\n",
       "    .dataframe tbody tr th:only-of-type {\n",
       "        vertical-align: middle;\n",
       "    }\n",
       "\n",
       "    .dataframe tbody tr th {\n",
       "        vertical-align: top;\n",
       "    }\n",
       "\n",
       "    .dataframe thead th {\n",
       "        text-align: right;\n",
       "    }\n",
       "</style>\n",
       "<table border=\"1\" class=\"dataframe\">\n",
       "  <thead>\n",
       "    <tr style=\"text-align: right;\">\n",
       "      <th></th>\n",
       "      <th>MinTemp</th>\n",
       "      <th>MaxTemp</th>\n",
       "      <th>Rainfall</th>\n",
       "      <th>Evaporation</th>\n",
       "      <th>Sunshine</th>\n",
       "      <th>WindGustSpeed</th>\n",
       "      <th>WindSpeed9am</th>\n",
       "      <th>WindSpeed3pm</th>\n",
       "      <th>Humidity9am</th>\n",
       "      <th>Humidity3pm</th>\n",
       "      <th>...</th>\n",
       "      <th>NNW</th>\n",
       "      <th>NW</th>\n",
       "      <th>S</th>\n",
       "      <th>SE</th>\n",
       "      <th>SSE</th>\n",
       "      <th>SSW</th>\n",
       "      <th>SW</th>\n",
       "      <th>W</th>\n",
       "      <th>WNW</th>\n",
       "      <th>WSW</th>\n",
       "    </tr>\n",
       "  </thead>\n",
       "  <tbody>\n",
       "    <tr>\n",
       "      <th>138175</th>\n",
       "      <td>21.9</td>\n",
       "      <td>39.4</td>\n",
       "      <td>1.6</td>\n",
       "      <td>11.2</td>\n",
       "      <td>11.5</td>\n",
       "      <td>57.0</td>\n",
       "      <td>20.0</td>\n",
       "      <td>33.0</td>\n",
       "      <td>50.0</td>\n",
       "      <td>26.0</td>\n",
       "      <td>...</td>\n",
       "      <td>0</td>\n",
       "      <td>0</td>\n",
       "      <td>0</td>\n",
       "      <td>0</td>\n",
       "      <td>0</td>\n",
       "      <td>0</td>\n",
       "      <td>0</td>\n",
       "      <td>0</td>\n",
       "      <td>0</td>\n",
       "      <td>0</td>\n",
       "    </tr>\n",
       "    <tr>\n",
       "      <th>38638</th>\n",
       "      <td>20.5</td>\n",
       "      <td>37.5</td>\n",
       "      <td>0.0</td>\n",
       "      <td>9.2</td>\n",
       "      <td>8.4</td>\n",
       "      <td>59.0</td>\n",
       "      <td>17.0</td>\n",
       "      <td>20.0</td>\n",
       "      <td>47.0</td>\n",
       "      <td>22.0</td>\n",
       "      <td>...</td>\n",
       "      <td>0</td>\n",
       "      <td>0</td>\n",
       "      <td>0</td>\n",
       "      <td>0</td>\n",
       "      <td>0</td>\n",
       "      <td>0</td>\n",
       "      <td>0</td>\n",
       "      <td>0</td>\n",
       "      <td>0</td>\n",
       "      <td>0</td>\n",
       "    </tr>\n",
       "    <tr>\n",
       "      <th>124058</th>\n",
       "      <td>5.1</td>\n",
       "      <td>17.2</td>\n",
       "      <td>0.2</td>\n",
       "      <td>4.7</td>\n",
       "      <td>8.4</td>\n",
       "      <td>50.0</td>\n",
       "      <td>28.0</td>\n",
       "      <td>22.0</td>\n",
       "      <td>68.0</td>\n",
       "      <td>51.0</td>\n",
       "      <td>...</td>\n",
       "      <td>0</td>\n",
       "      <td>0</td>\n",
       "      <td>0</td>\n",
       "      <td>0</td>\n",
       "      <td>0</td>\n",
       "      <td>0</td>\n",
       "      <td>0</td>\n",
       "      <td>1</td>\n",
       "      <td>0</td>\n",
       "      <td>0</td>\n",
       "    </tr>\n",
       "    <tr>\n",
       "      <th>99214</th>\n",
       "      <td>11.9</td>\n",
       "      <td>16.8</td>\n",
       "      <td>1.0</td>\n",
       "      <td>4.7</td>\n",
       "      <td>8.4</td>\n",
       "      <td>28.0</td>\n",
       "      <td>11.0</td>\n",
       "      <td>13.0</td>\n",
       "      <td>80.0</td>\n",
       "      <td>79.0</td>\n",
       "      <td>...</td>\n",
       "      <td>0</td>\n",
       "      <td>0</td>\n",
       "      <td>0</td>\n",
       "      <td>0</td>\n",
       "      <td>0</td>\n",
       "      <td>0</td>\n",
       "      <td>1</td>\n",
       "      <td>0</td>\n",
       "      <td>0</td>\n",
       "      <td>0</td>\n",
       "    </tr>\n",
       "    <tr>\n",
       "      <th>25097</th>\n",
       "      <td>7.5</td>\n",
       "      <td>21.3</td>\n",
       "      <td>0.0</td>\n",
       "      <td>4.7</td>\n",
       "      <td>8.4</td>\n",
       "      <td>15.0</td>\n",
       "      <td>2.0</td>\n",
       "      <td>7.0</td>\n",
       "      <td>88.0</td>\n",
       "      <td>52.0</td>\n",
       "      <td>...</td>\n",
       "      <td>0</td>\n",
       "      <td>0</td>\n",
       "      <td>0</td>\n",
       "      <td>0</td>\n",
       "      <td>0</td>\n",
       "      <td>0</td>\n",
       "      <td>0</td>\n",
       "      <td>0</td>\n",
       "      <td>0</td>\n",
       "      <td>0</td>\n",
       "    </tr>\n",
       "  </tbody>\n",
       "</table>\n",
       "<p>5 rows × 115 columns</p>\n",
       "</div>"
      ],
      "text/plain": [
       "        MinTemp  MaxTemp  Rainfall  Evaporation  Sunshine  WindGustSpeed  \\\n",
       "138175     21.9     39.4       1.6         11.2      11.5           57.0   \n",
       "38638      20.5     37.5       0.0          9.2       8.4           59.0   \n",
       "124058      5.1     17.2       0.2          4.7       8.4           50.0   \n",
       "99214      11.9     16.8       1.0          4.7       8.4           28.0   \n",
       "25097       7.5     21.3       0.0          4.7       8.4           15.0   \n",
       "\n",
       "        WindSpeed9am  WindSpeed3pm  Humidity9am  Humidity3pm  ...  NNW  NW  S  \\\n",
       "138175          20.0          33.0         50.0         26.0  ...    0   0  0   \n",
       "38638           17.0          20.0         47.0         22.0  ...    0   0  0   \n",
       "124058          28.0          22.0         68.0         51.0  ...    0   0  0   \n",
       "99214           11.0          13.0         80.0         79.0  ...    0   0  0   \n",
       "25097            2.0           7.0         88.0         52.0  ...    0   0  0   \n",
       "\n",
       "        SE  SSE  SSW  SW  W  WNW  WSW  \n",
       "138175   0    0    0   0  0    0    0  \n",
       "38638    0    0    0   0  0    0    0  \n",
       "124058   0    0    0   0  1    0    0  \n",
       "99214    0    0    0   1  0    0    0  \n",
       "25097    0    0    0   0  0    0    0  \n",
       "\n",
       "[5 rows x 115 columns]"
      ]
     },
     "execution_count": 39,
     "metadata": {},
     "output_type": "execute_result"
    }
   ],
   "source": [
    "X_test.head()"
   ]
  },
  {
   "cell_type": "markdown",
   "id": "fb998540",
   "metadata": {
    "papermill": {
     "duration": 0.089101,
     "end_time": "2021-08-10T18:26:54.498849",
     "exception": false,
     "start_time": "2021-08-10T18:26:54.409748",
     "status": "completed"
    },
    "tags": []
   },
   "source": [
    "### The Feature Scaling"
   ]
  },
  {
   "cell_type": "code",
   "execution_count": 40,
   "id": "ad0711e5",
   "metadata": {
    "execution": {
     "iopub.execute_input": "2021-08-10T18:26:54.690117Z",
     "iopub.status.busy": "2021-08-10T18:26:54.688792Z",
     "iopub.status.idle": "2021-08-10T18:26:55.193707Z",
     "shell.execute_reply": "2021-08-10T18:26:55.193039Z",
     "shell.execute_reply.started": "2021-08-08T08:35:09.158976Z"
    },
    "papermill": {
     "duration": 0.60376,
     "end_time": "2021-08-10T18:26:55.193852",
     "exception": false,
     "start_time": "2021-08-10T18:26:54.590092",
     "status": "completed"
    },
    "tags": []
   },
   "outputs": [
    {
     "data": {
      "text/html": [
       "<div>\n",
       "<style scoped>\n",
       "    .dataframe tbody tr th:only-of-type {\n",
       "        vertical-align: middle;\n",
       "    }\n",
       "\n",
       "    .dataframe tbody tr th {\n",
       "        vertical-align: top;\n",
       "    }\n",
       "\n",
       "    .dataframe thead th {\n",
       "        text-align: right;\n",
       "    }\n",
       "</style>\n",
       "<table border=\"1\" class=\"dataframe\">\n",
       "  <thead>\n",
       "    <tr style=\"text-align: right;\">\n",
       "      <th></th>\n",
       "      <th>MinTemp</th>\n",
       "      <th>MaxTemp</th>\n",
       "      <th>Rainfall</th>\n",
       "      <th>Evaporation</th>\n",
       "      <th>Sunshine</th>\n",
       "      <th>WindGustSpeed</th>\n",
       "      <th>WindSpeed9am</th>\n",
       "      <th>WindSpeed3pm</th>\n",
       "      <th>Humidity9am</th>\n",
       "      <th>Humidity3pm</th>\n",
       "      <th>...</th>\n",
       "      <th>NNW</th>\n",
       "      <th>NW</th>\n",
       "      <th>S</th>\n",
       "      <th>SE</th>\n",
       "      <th>SSE</th>\n",
       "      <th>SSW</th>\n",
       "      <th>SW</th>\n",
       "      <th>W</th>\n",
       "      <th>WNW</th>\n",
       "      <th>WSW</th>\n",
       "    </tr>\n",
       "  </thead>\n",
       "  <tbody>\n",
       "    <tr>\n",
       "      <th>count</th>\n",
       "      <td>116368.000000</td>\n",
       "      <td>116368.000000</td>\n",
       "      <td>116368.000000</td>\n",
       "      <td>116368.000000</td>\n",
       "      <td>116368.000000</td>\n",
       "      <td>116368.000000</td>\n",
       "      <td>116368.000000</td>\n",
       "      <td>116368.000000</td>\n",
       "      <td>116368.000000</td>\n",
       "      <td>116368.000000</td>\n",
       "      <td>...</td>\n",
       "      <td>116368.000000</td>\n",
       "      <td>116368.000000</td>\n",
       "      <td>116368.000000</td>\n",
       "      <td>116368.000000</td>\n",
       "      <td>116368.000000</td>\n",
       "      <td>116368.000000</td>\n",
       "      <td>116368.000000</td>\n",
       "      <td>116368.000000</td>\n",
       "      <td>116368.000000</td>\n",
       "      <td>116368.000000</td>\n",
       "    </tr>\n",
       "    <tr>\n",
       "      <th>mean</th>\n",
       "      <td>12.190189</td>\n",
       "      <td>23.203107</td>\n",
       "      <td>0.670800</td>\n",
       "      <td>5.093362</td>\n",
       "      <td>7.982476</td>\n",
       "      <td>39.982091</td>\n",
       "      <td>14.029381</td>\n",
       "      <td>18.687466</td>\n",
       "      <td>68.950691</td>\n",
       "      <td>51.605828</td>\n",
       "      <td>...</td>\n",
       "      <td>0.054078</td>\n",
       "      <td>0.059123</td>\n",
       "      <td>0.068447</td>\n",
       "      <td>0.103723</td>\n",
       "      <td>0.065224</td>\n",
       "      <td>0.056055</td>\n",
       "      <td>0.064786</td>\n",
       "      <td>0.069323</td>\n",
       "      <td>0.060309</td>\n",
       "      <td>0.064958</td>\n",
       "    </tr>\n",
       "    <tr>\n",
       "      <th>std</th>\n",
       "      <td>6.366893</td>\n",
       "      <td>7.085408</td>\n",
       "      <td>1.181512</td>\n",
       "      <td>2.800200</td>\n",
       "      <td>2.761639</td>\n",
       "      <td>13.127953</td>\n",
       "      <td>8.835596</td>\n",
       "      <td>8.700618</td>\n",
       "      <td>18.811437</td>\n",
       "      <td>20.439999</td>\n",
       "      <td>...</td>\n",
       "      <td>0.226173</td>\n",
       "      <td>0.235855</td>\n",
       "      <td>0.252512</td>\n",
       "      <td>0.304902</td>\n",
       "      <td>0.246922</td>\n",
       "      <td>0.230029</td>\n",
       "      <td>0.246149</td>\n",
       "      <td>0.254004</td>\n",
       "      <td>0.238059</td>\n",
       "      <td>0.246452</td>\n",
       "    </tr>\n",
       "    <tr>\n",
       "      <th>min</th>\n",
       "      <td>-8.500000</td>\n",
       "      <td>-4.800000</td>\n",
       "      <td>0.000000</td>\n",
       "      <td>0.000000</td>\n",
       "      <td>0.000000</td>\n",
       "      <td>6.000000</td>\n",
       "      <td>0.000000</td>\n",
       "      <td>0.000000</td>\n",
       "      <td>0.000000</td>\n",
       "      <td>0.000000</td>\n",
       "      <td>...</td>\n",
       "      <td>0.000000</td>\n",
       "      <td>0.000000</td>\n",
       "      <td>0.000000</td>\n",
       "      <td>0.000000</td>\n",
       "      <td>0.000000</td>\n",
       "      <td>0.000000</td>\n",
       "      <td>0.000000</td>\n",
       "      <td>0.000000</td>\n",
       "      <td>0.000000</td>\n",
       "      <td>0.000000</td>\n",
       "    </tr>\n",
       "    <tr>\n",
       "      <th>25%</th>\n",
       "      <td>7.700000</td>\n",
       "      <td>18.000000</td>\n",
       "      <td>0.000000</td>\n",
       "      <td>4.000000</td>\n",
       "      <td>8.200000</td>\n",
       "      <td>31.000000</td>\n",
       "      <td>7.000000</td>\n",
       "      <td>13.000000</td>\n",
       "      <td>57.000000</td>\n",
       "      <td>37.000000</td>\n",
       "      <td>...</td>\n",
       "      <td>0.000000</td>\n",
       "      <td>0.000000</td>\n",
       "      <td>0.000000</td>\n",
       "      <td>0.000000</td>\n",
       "      <td>0.000000</td>\n",
       "      <td>0.000000</td>\n",
       "      <td>0.000000</td>\n",
       "      <td>0.000000</td>\n",
       "      <td>0.000000</td>\n",
       "      <td>0.000000</td>\n",
       "    </tr>\n",
       "    <tr>\n",
       "      <th>50%</th>\n",
       "      <td>12.000000</td>\n",
       "      <td>22.600000</td>\n",
       "      <td>0.000000</td>\n",
       "      <td>4.700000</td>\n",
       "      <td>8.400000</td>\n",
       "      <td>39.000000</td>\n",
       "      <td>13.000000</td>\n",
       "      <td>19.000000</td>\n",
       "      <td>70.000000</td>\n",
       "      <td>52.000000</td>\n",
       "      <td>...</td>\n",
       "      <td>0.000000</td>\n",
       "      <td>0.000000</td>\n",
       "      <td>0.000000</td>\n",
       "      <td>0.000000</td>\n",
       "      <td>0.000000</td>\n",
       "      <td>0.000000</td>\n",
       "      <td>0.000000</td>\n",
       "      <td>0.000000</td>\n",
       "      <td>0.000000</td>\n",
       "      <td>0.000000</td>\n",
       "    </tr>\n",
       "    <tr>\n",
       "      <th>75%</th>\n",
       "      <td>16.800000</td>\n",
       "      <td>28.200000</td>\n",
       "      <td>0.600000</td>\n",
       "      <td>5.200000</td>\n",
       "      <td>8.600000</td>\n",
       "      <td>46.000000</td>\n",
       "      <td>19.000000</td>\n",
       "      <td>24.000000</td>\n",
       "      <td>83.000000</td>\n",
       "      <td>65.000000</td>\n",
       "      <td>...</td>\n",
       "      <td>0.000000</td>\n",
       "      <td>0.000000</td>\n",
       "      <td>0.000000</td>\n",
       "      <td>0.000000</td>\n",
       "      <td>0.000000</td>\n",
       "      <td>0.000000</td>\n",
       "      <td>0.000000</td>\n",
       "      <td>0.000000</td>\n",
       "      <td>0.000000</td>\n",
       "      <td>0.000000</td>\n",
       "    </tr>\n",
       "    <tr>\n",
       "      <th>max</th>\n",
       "      <td>31.900000</td>\n",
       "      <td>48.100000</td>\n",
       "      <td>3.200000</td>\n",
       "      <td>21.800000</td>\n",
       "      <td>14.500000</td>\n",
       "      <td>135.000000</td>\n",
       "      <td>55.000000</td>\n",
       "      <td>57.000000</td>\n",
       "      <td>100.000000</td>\n",
       "      <td>100.000000</td>\n",
       "      <td>...</td>\n",
       "      <td>1.000000</td>\n",
       "      <td>1.000000</td>\n",
       "      <td>1.000000</td>\n",
       "      <td>1.000000</td>\n",
       "      <td>1.000000</td>\n",
       "      <td>1.000000</td>\n",
       "      <td>1.000000</td>\n",
       "      <td>1.000000</td>\n",
       "      <td>1.000000</td>\n",
       "      <td>1.000000</td>\n",
       "    </tr>\n",
       "  </tbody>\n",
       "</table>\n",
       "<p>8 rows × 115 columns</p>\n",
       "</div>"
      ],
      "text/plain": [
       "             MinTemp        MaxTemp       Rainfall    Evaporation  \\\n",
       "count  116368.000000  116368.000000  116368.000000  116368.000000   \n",
       "mean       12.190189      23.203107       0.670800       5.093362   \n",
       "std         6.366893       7.085408       1.181512       2.800200   \n",
       "min        -8.500000      -4.800000       0.000000       0.000000   \n",
       "25%         7.700000      18.000000       0.000000       4.000000   \n",
       "50%        12.000000      22.600000       0.000000       4.700000   \n",
       "75%        16.800000      28.200000       0.600000       5.200000   \n",
       "max        31.900000      48.100000       3.200000      21.800000   \n",
       "\n",
       "            Sunshine  WindGustSpeed   WindSpeed9am   WindSpeed3pm  \\\n",
       "count  116368.000000  116368.000000  116368.000000  116368.000000   \n",
       "mean        7.982476      39.982091      14.029381      18.687466   \n",
       "std         2.761639      13.127953       8.835596       8.700618   \n",
       "min         0.000000       6.000000       0.000000       0.000000   \n",
       "25%         8.200000      31.000000       7.000000      13.000000   \n",
       "50%         8.400000      39.000000      13.000000      19.000000   \n",
       "75%         8.600000      46.000000      19.000000      24.000000   \n",
       "max        14.500000     135.000000      55.000000      57.000000   \n",
       "\n",
       "         Humidity9am    Humidity3pm  ...            NNW             NW  \\\n",
       "count  116368.000000  116368.000000  ...  116368.000000  116368.000000   \n",
       "mean       68.950691      51.605828  ...       0.054078       0.059123   \n",
       "std        18.811437      20.439999  ...       0.226173       0.235855   \n",
       "min         0.000000       0.000000  ...       0.000000       0.000000   \n",
       "25%        57.000000      37.000000  ...       0.000000       0.000000   \n",
       "50%        70.000000      52.000000  ...       0.000000       0.000000   \n",
       "75%        83.000000      65.000000  ...       0.000000       0.000000   \n",
       "max       100.000000     100.000000  ...       1.000000       1.000000   \n",
       "\n",
       "                   S             SE            SSE            SSW  \\\n",
       "count  116368.000000  116368.000000  116368.000000  116368.000000   \n",
       "mean        0.068447       0.103723       0.065224       0.056055   \n",
       "std         0.252512       0.304902       0.246922       0.230029   \n",
       "min         0.000000       0.000000       0.000000       0.000000   \n",
       "25%         0.000000       0.000000       0.000000       0.000000   \n",
       "50%         0.000000       0.000000       0.000000       0.000000   \n",
       "75%         0.000000       0.000000       0.000000       0.000000   \n",
       "max         1.000000       1.000000       1.000000       1.000000   \n",
       "\n",
       "                  SW              W            WNW            WSW  \n",
       "count  116368.000000  116368.000000  116368.000000  116368.000000  \n",
       "mean        0.064786       0.069323       0.060309       0.064958  \n",
       "std         0.246149       0.254004       0.238059       0.246452  \n",
       "min         0.000000       0.000000       0.000000       0.000000  \n",
       "25%         0.000000       0.000000       0.000000       0.000000  \n",
       "50%         0.000000       0.000000       0.000000       0.000000  \n",
       "75%         0.000000       0.000000       0.000000       0.000000  \n",
       "max         1.000000       1.000000       1.000000       1.000000  \n",
       "\n",
       "[8 rows x 115 columns]"
      ]
     },
     "execution_count": 40,
     "metadata": {},
     "output_type": "execute_result"
    }
   ],
   "source": [
    "X_train.describe()"
   ]
  },
  {
   "cell_type": "code",
   "execution_count": 41,
   "id": "aae00062",
   "metadata": {
    "execution": {
     "iopub.execute_input": "2021-08-10T18:26:55.378940Z",
     "iopub.status.busy": "2021-08-10T18:26:55.377906Z",
     "iopub.status.idle": "2021-08-10T18:26:55.381507Z",
     "shell.execute_reply": "2021-08-10T18:26:55.380927Z",
     "shell.execute_reply.started": "2021-08-08T08:35:09.632331Z"
    },
    "papermill": {
     "duration": 0.097654,
     "end_time": "2021-08-10T18:26:55.381653",
     "exception": false,
     "start_time": "2021-08-10T18:26:55.283999",
     "status": "completed"
    },
    "tags": []
   },
   "outputs": [],
   "source": [
    "cols = X_train.columns"
   ]
  },
  {
   "cell_type": "code",
   "execution_count": 42,
   "id": "a706df3e",
   "metadata": {
    "execution": {
     "iopub.execute_input": "2021-08-10T18:26:55.573793Z",
     "iopub.status.busy": "2021-08-10T18:26:55.572214Z",
     "iopub.status.idle": "2021-08-10T18:26:55.781895Z",
     "shell.execute_reply": "2021-08-10T18:26:55.782381Z",
     "shell.execute_reply.started": "2021-08-08T08:35:09.637439Z"
    },
    "papermill": {
     "duration": 0.309392,
     "end_time": "2021-08-10T18:26:55.782587",
     "exception": false,
     "start_time": "2021-08-10T18:26:55.473195",
     "status": "completed"
    },
    "tags": []
   },
   "outputs": [],
   "source": [
    "from sklearn.preprocessing import MinMaxScaler\n",
    "scaler = MinMaxScaler()\n",
    "X_train = scaler.fit_transform(X_train)\n",
    "X_test = scaler.transform(X_test)"
   ]
  },
  {
   "cell_type": "code",
   "execution_count": 43,
   "id": "f8af9133",
   "metadata": {
    "execution": {
     "iopub.execute_input": "2021-08-10T18:26:55.969583Z",
     "iopub.status.busy": "2021-08-10T18:26:55.968590Z",
     "iopub.status.idle": "2021-08-10T18:26:55.971459Z",
     "shell.execute_reply": "2021-08-10T18:26:55.971927Z",
     "shell.execute_reply.started": "2021-08-08T08:35:09.859158Z"
    },
    "papermill": {
     "duration": 0.099333,
     "end_time": "2021-08-10T18:26:55.972103",
     "exception": false,
     "start_time": "2021-08-10T18:26:55.872770",
     "status": "completed"
    },
    "tags": []
   },
   "outputs": [],
   "source": [
    "X_train = pd.DataFrame(X_train, columns=[cols])"
   ]
  },
  {
   "cell_type": "code",
   "execution_count": 44,
   "id": "0267fa45",
   "metadata": {
    "execution": {
     "iopub.execute_input": "2021-08-10T18:26:56.159665Z",
     "iopub.status.busy": "2021-08-10T18:26:56.158939Z",
     "iopub.status.idle": "2021-08-10T18:26:56.161382Z",
     "shell.execute_reply": "2021-08-10T18:26:56.160764Z",
     "shell.execute_reply.started": "2021-08-08T08:35:09.865954Z"
    },
    "papermill": {
     "duration": 0.099493,
     "end_time": "2021-08-10T18:26:56.161540",
     "exception": false,
     "start_time": "2021-08-10T18:26:56.062047",
     "status": "completed"
    },
    "tags": []
   },
   "outputs": [],
   "source": [
    "X_test = pd.DataFrame(X_test, columns=[cols])"
   ]
  },
  {
   "cell_type": "code",
   "execution_count": 45,
   "id": "8090550d",
   "metadata": {
    "execution": {
     "iopub.execute_input": "2021-08-10T18:26:56.384175Z",
     "iopub.status.busy": "2021-08-10T18:26:56.381255Z",
     "iopub.status.idle": "2021-08-10T18:26:57.030561Z",
     "shell.execute_reply": "2021-08-10T18:26:57.029949Z",
     "shell.execute_reply.started": "2021-08-08T08:35:09.879319Z"
    },
    "papermill": {
     "duration": 0.779112,
     "end_time": "2021-08-10T18:26:57.030712",
     "exception": false,
     "start_time": "2021-08-10T18:26:56.251600",
     "status": "completed"
    },
    "tags": []
   },
   "outputs": [
    {
     "data": {
      "text/html": [
       "<div>\n",
       "<style scoped>\n",
       "    .dataframe tbody tr th:only-of-type {\n",
       "        vertical-align: middle;\n",
       "    }\n",
       "\n",
       "    .dataframe tbody tr th {\n",
       "        vertical-align: top;\n",
       "    }\n",
       "\n",
       "    .dataframe thead tr th {\n",
       "        text-align: left;\n",
       "    }\n",
       "</style>\n",
       "<table border=\"1\" class=\"dataframe\">\n",
       "  <thead>\n",
       "    <tr>\n",
       "      <th></th>\n",
       "      <th>MinTemp</th>\n",
       "      <th>MaxTemp</th>\n",
       "      <th>Rainfall</th>\n",
       "      <th>Evaporation</th>\n",
       "      <th>Sunshine</th>\n",
       "      <th>WindGustSpeed</th>\n",
       "      <th>WindSpeed9am</th>\n",
       "      <th>WindSpeed3pm</th>\n",
       "      <th>Humidity9am</th>\n",
       "      <th>Humidity3pm</th>\n",
       "      <th>...</th>\n",
       "      <th>NNW</th>\n",
       "      <th>NW</th>\n",
       "      <th>S</th>\n",
       "      <th>SE</th>\n",
       "      <th>SSE</th>\n",
       "      <th>SSW</th>\n",
       "      <th>SW</th>\n",
       "      <th>W</th>\n",
       "      <th>WNW</th>\n",
       "      <th>WSW</th>\n",
       "    </tr>\n",
       "  </thead>\n",
       "  <tbody>\n",
       "    <tr>\n",
       "      <th>count</th>\n",
       "      <td>116368.000000</td>\n",
       "      <td>116368.000000</td>\n",
       "      <td>116368.000000</td>\n",
       "      <td>116368.000000</td>\n",
       "      <td>116368.000000</td>\n",
       "      <td>116368.000000</td>\n",
       "      <td>116368.000000</td>\n",
       "      <td>116368.000000</td>\n",
       "      <td>116368.000000</td>\n",
       "      <td>116368.000000</td>\n",
       "      <td>...</td>\n",
       "      <td>116368.000000</td>\n",
       "      <td>116368.000000</td>\n",
       "      <td>116368.000000</td>\n",
       "      <td>116368.000000</td>\n",
       "      <td>116368.000000</td>\n",
       "      <td>116368.000000</td>\n",
       "      <td>116368.000000</td>\n",
       "      <td>116368.000000</td>\n",
       "      <td>116368.000000</td>\n",
       "      <td>116368.000000</td>\n",
       "    </tr>\n",
       "    <tr>\n",
       "      <th>mean</th>\n",
       "      <td>0.512133</td>\n",
       "      <td>0.529359</td>\n",
       "      <td>0.209625</td>\n",
       "      <td>0.233640</td>\n",
       "      <td>0.550516</td>\n",
       "      <td>0.263427</td>\n",
       "      <td>0.255080</td>\n",
       "      <td>0.327850</td>\n",
       "      <td>0.689507</td>\n",
       "      <td>0.516058</td>\n",
       "      <td>...</td>\n",
       "      <td>0.054078</td>\n",
       "      <td>0.059123</td>\n",
       "      <td>0.068447</td>\n",
       "      <td>0.103723</td>\n",
       "      <td>0.065224</td>\n",
       "      <td>0.056055</td>\n",
       "      <td>0.064786</td>\n",
       "      <td>0.069323</td>\n",
       "      <td>0.060309</td>\n",
       "      <td>0.064958</td>\n",
       "    </tr>\n",
       "    <tr>\n",
       "      <th>std</th>\n",
       "      <td>0.157596</td>\n",
       "      <td>0.133940</td>\n",
       "      <td>0.369223</td>\n",
       "      <td>0.128450</td>\n",
       "      <td>0.190458</td>\n",
       "      <td>0.101767</td>\n",
       "      <td>0.160647</td>\n",
       "      <td>0.152642</td>\n",
       "      <td>0.188114</td>\n",
       "      <td>0.204400</td>\n",
       "      <td>...</td>\n",
       "      <td>0.226173</td>\n",
       "      <td>0.235855</td>\n",
       "      <td>0.252512</td>\n",
       "      <td>0.304902</td>\n",
       "      <td>0.246922</td>\n",
       "      <td>0.230029</td>\n",
       "      <td>0.246149</td>\n",
       "      <td>0.254004</td>\n",
       "      <td>0.238059</td>\n",
       "      <td>0.246452</td>\n",
       "    </tr>\n",
       "    <tr>\n",
       "      <th>min</th>\n",
       "      <td>0.000000</td>\n",
       "      <td>0.000000</td>\n",
       "      <td>0.000000</td>\n",
       "      <td>0.000000</td>\n",
       "      <td>0.000000</td>\n",
       "      <td>0.000000</td>\n",
       "      <td>0.000000</td>\n",
       "      <td>0.000000</td>\n",
       "      <td>0.000000</td>\n",
       "      <td>0.000000</td>\n",
       "      <td>...</td>\n",
       "      <td>0.000000</td>\n",
       "      <td>0.000000</td>\n",
       "      <td>0.000000</td>\n",
       "      <td>0.000000</td>\n",
       "      <td>0.000000</td>\n",
       "      <td>0.000000</td>\n",
       "      <td>0.000000</td>\n",
       "      <td>0.000000</td>\n",
       "      <td>0.000000</td>\n",
       "      <td>0.000000</td>\n",
       "    </tr>\n",
       "    <tr>\n",
       "      <th>25%</th>\n",
       "      <td>0.400990</td>\n",
       "      <td>0.431002</td>\n",
       "      <td>0.000000</td>\n",
       "      <td>0.183486</td>\n",
       "      <td>0.565517</td>\n",
       "      <td>0.193798</td>\n",
       "      <td>0.127273</td>\n",
       "      <td>0.228070</td>\n",
       "      <td>0.570000</td>\n",
       "      <td>0.370000</td>\n",
       "      <td>...</td>\n",
       "      <td>0.000000</td>\n",
       "      <td>0.000000</td>\n",
       "      <td>0.000000</td>\n",
       "      <td>0.000000</td>\n",
       "      <td>0.000000</td>\n",
       "      <td>0.000000</td>\n",
       "      <td>0.000000</td>\n",
       "      <td>0.000000</td>\n",
       "      <td>0.000000</td>\n",
       "      <td>0.000000</td>\n",
       "    </tr>\n",
       "    <tr>\n",
       "      <th>50%</th>\n",
       "      <td>0.507426</td>\n",
       "      <td>0.517958</td>\n",
       "      <td>0.000000</td>\n",
       "      <td>0.215596</td>\n",
       "      <td>0.579310</td>\n",
       "      <td>0.255814</td>\n",
       "      <td>0.236364</td>\n",
       "      <td>0.333333</td>\n",
       "      <td>0.700000</td>\n",
       "      <td>0.520000</td>\n",
       "      <td>...</td>\n",
       "      <td>0.000000</td>\n",
       "      <td>0.000000</td>\n",
       "      <td>0.000000</td>\n",
       "      <td>0.000000</td>\n",
       "      <td>0.000000</td>\n",
       "      <td>0.000000</td>\n",
       "      <td>0.000000</td>\n",
       "      <td>0.000000</td>\n",
       "      <td>0.000000</td>\n",
       "      <td>0.000000</td>\n",
       "    </tr>\n",
       "    <tr>\n",
       "      <th>75%</th>\n",
       "      <td>0.626238</td>\n",
       "      <td>0.623819</td>\n",
       "      <td>0.187500</td>\n",
       "      <td>0.238532</td>\n",
       "      <td>0.593103</td>\n",
       "      <td>0.310078</td>\n",
       "      <td>0.345455</td>\n",
       "      <td>0.421053</td>\n",
       "      <td>0.830000</td>\n",
       "      <td>0.650000</td>\n",
       "      <td>...</td>\n",
       "      <td>0.000000</td>\n",
       "      <td>0.000000</td>\n",
       "      <td>0.000000</td>\n",
       "      <td>0.000000</td>\n",
       "      <td>0.000000</td>\n",
       "      <td>0.000000</td>\n",
       "      <td>0.000000</td>\n",
       "      <td>0.000000</td>\n",
       "      <td>0.000000</td>\n",
       "      <td>0.000000</td>\n",
       "    </tr>\n",
       "    <tr>\n",
       "      <th>max</th>\n",
       "      <td>1.000000</td>\n",
       "      <td>1.000000</td>\n",
       "      <td>1.000000</td>\n",
       "      <td>1.000000</td>\n",
       "      <td>1.000000</td>\n",
       "      <td>1.000000</td>\n",
       "      <td>1.000000</td>\n",
       "      <td>1.000000</td>\n",
       "      <td>1.000000</td>\n",
       "      <td>1.000000</td>\n",
       "      <td>...</td>\n",
       "      <td>1.000000</td>\n",
       "      <td>1.000000</td>\n",
       "      <td>1.000000</td>\n",
       "      <td>1.000000</td>\n",
       "      <td>1.000000</td>\n",
       "      <td>1.000000</td>\n",
       "      <td>1.000000</td>\n",
       "      <td>1.000000</td>\n",
       "      <td>1.000000</td>\n",
       "      <td>1.000000</td>\n",
       "    </tr>\n",
       "  </tbody>\n",
       "</table>\n",
       "<p>8 rows × 115 columns</p>\n",
       "</div>"
      ],
      "text/plain": [
       "             MinTemp        MaxTemp       Rainfall    Evaporation  \\\n",
       "count  116368.000000  116368.000000  116368.000000  116368.000000   \n",
       "mean        0.512133       0.529359       0.209625       0.233640   \n",
       "std         0.157596       0.133940       0.369223       0.128450   \n",
       "min         0.000000       0.000000       0.000000       0.000000   \n",
       "25%         0.400990       0.431002       0.000000       0.183486   \n",
       "50%         0.507426       0.517958       0.000000       0.215596   \n",
       "75%         0.626238       0.623819       0.187500       0.238532   \n",
       "max         1.000000       1.000000       1.000000       1.000000   \n",
       "\n",
       "            Sunshine  WindGustSpeed   WindSpeed9am   WindSpeed3pm  \\\n",
       "count  116368.000000  116368.000000  116368.000000  116368.000000   \n",
       "mean        0.550516       0.263427       0.255080       0.327850   \n",
       "std         0.190458       0.101767       0.160647       0.152642   \n",
       "min         0.000000       0.000000       0.000000       0.000000   \n",
       "25%         0.565517       0.193798       0.127273       0.228070   \n",
       "50%         0.579310       0.255814       0.236364       0.333333   \n",
       "75%         0.593103       0.310078       0.345455       0.421053   \n",
       "max         1.000000       1.000000       1.000000       1.000000   \n",
       "\n",
       "         Humidity9am    Humidity3pm  ...            NNW             NW  \\\n",
       "count  116368.000000  116368.000000  ...  116368.000000  116368.000000   \n",
       "mean        0.689507       0.516058  ...       0.054078       0.059123   \n",
       "std         0.188114       0.204400  ...       0.226173       0.235855   \n",
       "min         0.000000       0.000000  ...       0.000000       0.000000   \n",
       "25%         0.570000       0.370000  ...       0.000000       0.000000   \n",
       "50%         0.700000       0.520000  ...       0.000000       0.000000   \n",
       "75%         0.830000       0.650000  ...       0.000000       0.000000   \n",
       "max         1.000000       1.000000  ...       1.000000       1.000000   \n",
       "\n",
       "                   S             SE            SSE            SSW  \\\n",
       "count  116368.000000  116368.000000  116368.000000  116368.000000   \n",
       "mean        0.068447       0.103723       0.065224       0.056055   \n",
       "std         0.252512       0.304902       0.246922       0.230029   \n",
       "min         0.000000       0.000000       0.000000       0.000000   \n",
       "25%         0.000000       0.000000       0.000000       0.000000   \n",
       "50%         0.000000       0.000000       0.000000       0.000000   \n",
       "75%         0.000000       0.000000       0.000000       0.000000   \n",
       "max         1.000000       1.000000       1.000000       1.000000   \n",
       "\n",
       "                  SW              W            WNW            WSW  \n",
       "count  116368.000000  116368.000000  116368.000000  116368.000000  \n",
       "mean        0.064786       0.069323       0.060309       0.064958  \n",
       "std         0.246149       0.254004       0.238059       0.246452  \n",
       "min         0.000000       0.000000       0.000000       0.000000  \n",
       "25%         0.000000       0.000000       0.000000       0.000000  \n",
       "50%         0.000000       0.000000       0.000000       0.000000  \n",
       "75%         0.000000       0.000000       0.000000       0.000000  \n",
       "max         1.000000       1.000000       1.000000       1.000000  \n",
       "\n",
       "[8 rows x 115 columns]"
      ]
     },
     "execution_count": 45,
     "metadata": {},
     "output_type": "execute_result"
    }
   ],
   "source": [
    "X_train.describe()"
   ]
  },
  {
   "cell_type": "markdown",
   "id": "8ce9c43f",
   "metadata": {
    "papermill": {
     "duration": 0.094624,
     "end_time": "2021-08-10T18:26:57.217637",
     "exception": false,
     "start_time": "2021-08-10T18:26:57.123013",
     "status": "completed"
    },
    "tags": []
   },
   "source": [
    "### Model training"
   ]
  },
  {
   "cell_type": "code",
   "execution_count": 46,
   "id": "e5725ab8",
   "metadata": {
    "execution": {
     "iopub.execute_input": "2021-08-10T18:26:57.407193Z",
     "iopub.status.busy": "2021-08-10T18:26:57.406361Z",
     "iopub.status.idle": "2021-08-10T18:27:00.153062Z",
     "shell.execute_reply": "2021-08-10T18:27:00.152404Z",
     "shell.execute_reply.started": "2021-08-08T08:35:10.513001Z"
    },
    "papermill": {
     "duration": 2.84372,
     "end_time": "2021-08-10T18:27:00.153251",
     "exception": false,
     "start_time": "2021-08-10T18:26:57.309531",
     "status": "completed"
    },
    "tags": []
   },
   "outputs": [
    {
     "data": {
      "text/plain": [
       "LogisticRegression(random_state=0, solver='liblinear')"
      ]
     },
     "execution_count": 46,
     "metadata": {},
     "output_type": "execute_result"
    }
   ],
   "source": [
    "# train a logistic regression model on the training set\n",
    "from sklearn.linear_model import LogisticRegression\n",
    "\n",
    "\n",
    "# instantiate the model\n",
    "logreg = LogisticRegression(solver='liblinear', random_state=0)\n",
    "\n",
    "y_train.fillna(y_train.mode()[0], inplace=True)\n",
    "y_test.fillna(y_train.mode()[0], inplace=True)\n",
    "\n",
    "# fit the model\n",
    "logreg.fit(X_train, y_train)"
   ]
  },
  {
   "cell_type": "markdown",
   "id": "75b24b83",
   "metadata": {
    "papermill": {
     "duration": 0.090542,
     "end_time": "2021-08-10T18:27:00.336058",
     "exception": false,
     "start_time": "2021-08-10T18:27:00.245516",
     "status": "completed"
    },
    "tags": []
   },
   "source": [
    "### Predict results"
   ]
  },
  {
   "cell_type": "code",
   "execution_count": 47,
   "id": "6f5b0f96",
   "metadata": {
    "execution": {
     "iopub.execute_input": "2021-08-10T18:27:00.526452Z",
     "iopub.status.busy": "2021-08-10T18:27:00.525073Z",
     "iopub.status.idle": "2021-08-10T18:27:00.539351Z",
     "shell.execute_reply": "2021-08-10T18:27:00.538431Z",
     "shell.execute_reply.started": "2021-08-08T08:35:13.161723Z"
    },
    "papermill": {
     "duration": 0.112789,
     "end_time": "2021-08-10T18:27:00.539588",
     "exception": false,
     "start_time": "2021-08-10T18:27:00.426799",
     "status": "completed"
    },
    "tags": []
   },
   "outputs": [
    {
     "data": {
      "text/plain": [
       "array(['No', 'No', 'No', ..., 'Yes', 'No', 'No'], dtype=object)"
      ]
     },
     "execution_count": 47,
     "metadata": {},
     "output_type": "execute_result"
    }
   ],
   "source": [
    "y_pred_test = logreg.predict(X_test)\n",
    "\n",
    "y_pred_test"
   ]
  },
  {
   "cell_type": "code",
   "execution_count": 48,
   "id": "4cc73e76",
   "metadata": {
    "execution": {
     "iopub.execute_input": "2021-08-10T18:27:00.908863Z",
     "iopub.status.busy": "2021-08-10T18:27:00.838393Z",
     "iopub.status.idle": "2021-08-10T18:27:00.911824Z",
     "shell.execute_reply": "2021-08-10T18:27:00.912600Z",
     "shell.execute_reply.started": "2021-08-08T08:35:13.180935Z"
    },
    "papermill": {
     "duration": 0.233654,
     "end_time": "2021-08-10T18:27:00.912849",
     "exception": false,
     "start_time": "2021-08-10T18:27:00.679195",
     "status": "completed"
    },
    "tags": []
   },
   "outputs": [
    {
     "name": "stdout",
     "output_type": "stream",
     "text": [
      "Model accuracy score: 0.8487\n"
     ]
    }
   ],
   "source": [
    "from sklearn.metrics import accuracy_score\n",
    "\n",
    "print('Model accuracy score: {0:0.4f}'. format(accuracy_score(y_test, y_pred_test)))"
   ]
  },
  {
   "cell_type": "markdown",
   "id": "4d1d223e",
   "metadata": {
    "papermill": {
     "duration": 0.091662,
     "end_time": "2021-08-10T18:27:01.098401",
     "exception": false,
     "start_time": "2021-08-10T18:27:01.006739",
     "status": "completed"
    },
    "tags": []
   },
   "source": [
    "### Check for overfitting and underfitting by the train-set and test-set accuracy"
   ]
  },
  {
   "cell_type": "code",
   "execution_count": 49,
   "id": "e06df710",
   "metadata": {
    "execution": {
     "iopub.execute_input": "2021-08-10T18:27:01.290989Z",
     "iopub.status.busy": "2021-08-10T18:27:01.290210Z",
     "iopub.status.idle": "2021-08-10T18:27:01.315507Z",
     "shell.execute_reply": "2021-08-10T18:27:01.316452Z",
     "shell.execute_reply.started": "2021-08-08T08:35:13.364661Z"
    },
    "papermill": {
     "duration": 0.125493,
     "end_time": "2021-08-10T18:27:01.316748",
     "exception": false,
     "start_time": "2021-08-10T18:27:01.191255",
     "status": "completed"
    },
    "tags": []
   },
   "outputs": [
    {
     "data": {
      "text/plain": [
       "array(['No', 'No', 'No', ..., 'No', 'No', 'No'], dtype=object)"
      ]
     },
     "execution_count": 49,
     "metadata": {},
     "output_type": "execute_result"
    }
   ],
   "source": [
    "y_pred_train = logreg.predict(X_train)\n",
    "y_pred_train"
   ]
  },
  {
   "cell_type": "code",
   "execution_count": 50,
   "id": "96480e76",
   "metadata": {
    "execution": {
     "iopub.execute_input": "2021-08-10T18:27:01.557240Z",
     "iopub.status.busy": "2021-08-10T18:27:01.555999Z",
     "iopub.status.idle": "2021-08-10T18:27:02.409500Z",
     "shell.execute_reply": "2021-08-10T18:27:02.410523Z",
     "shell.execute_reply.started": "2021-08-08T08:35:13.395859Z"
    },
    "papermill": {
     "duration": 0.956453,
     "end_time": "2021-08-10T18:27:02.410799",
     "exception": false,
     "start_time": "2021-08-10T18:27:01.454346",
     "status": "completed"
    },
    "tags": []
   },
   "outputs": [
    {
     "name": "stdout",
     "output_type": "stream",
     "text": [
      "Training set score: 0.8487\n",
      "Test set score: 0.8487\n"
     ]
    }
   ],
   "source": [
    "# print the scores on training and test set\n",
    "\n",
    "print('Training set score: {:.4f}'.format(logreg.score(X_train, y_train)))\n",
    "print('Test set score: {:.4f}'.format(logreg.score(X_test, y_test)))"
   ]
  },
  {
   "cell_type": "markdown",
   "id": "354d6b86",
   "metadata": {
    "papermill": {
     "duration": 0.122866,
     "end_time": "2021-08-10T18:27:02.629292",
     "exception": false,
     "start_time": "2021-08-10T18:27:02.506426",
     "status": "completed"
    },
    "tags": []
   },
   "source": [
    "These two values are same in score. So, there is no question of overfitting. \n"
   ]
  },
  {
   "cell_type": "markdown",
   "id": "e0c0f131",
   "metadata": {
    "papermill": {
     "duration": 0.09663,
     "end_time": "2021-08-10T18:27:02.824076",
     "exception": false,
     "start_time": "2021-08-10T18:27:02.727446",
     "status": "completed"
    },
    "tags": []
   },
   "source": [
    "In Logistic Regression, we use default value of C = 1. It provides good performance with approximately 85% accuracy on both the training and the test set. But the model performance on both the training and test set are very comparable. It is likely the case of underfitting. \n",
    "\n",
    "I will increase C and fit a more flexible model."
   ]
  },
  {
   "cell_type": "code",
   "execution_count": 51,
   "id": "f5da5212",
   "metadata": {
    "execution": {
     "iopub.execute_input": "2021-08-10T18:27:03.020049Z",
     "iopub.status.busy": "2021-08-10T18:27:03.018674Z",
     "iopub.status.idle": "2021-08-10T18:27:05.513835Z",
     "shell.execute_reply": "2021-08-10T18:27:05.513276Z",
     "shell.execute_reply.started": "2021-08-08T08:35:14.265879Z"
    },
    "papermill": {
     "duration": 2.595996,
     "end_time": "2021-08-10T18:27:05.514010",
     "exception": false,
     "start_time": "2021-08-10T18:27:02.918014",
     "status": "completed"
    },
    "tags": []
   },
   "outputs": [
    {
     "data": {
      "text/plain": [
       "LogisticRegression(C=100, random_state=0, solver='liblinear')"
      ]
     },
     "execution_count": 51,
     "metadata": {},
     "output_type": "execute_result"
    }
   ],
   "source": [
    "# fit the Logsitic Regression model with C=100\n",
    "\n",
    "# instantiate the model\n",
    "logreg100 = LogisticRegression(C=100, solver='liblinear', random_state=0)\n",
    "\n",
    "# fit the model\n",
    "logreg100.fit(X_train, y_train)"
   ]
  },
  {
   "cell_type": "code",
   "execution_count": 52,
   "id": "b17abf5f",
   "metadata": {
    "execution": {
     "iopub.execute_input": "2021-08-10T18:27:05.710115Z",
     "iopub.status.busy": "2021-08-10T18:27:05.708814Z",
     "iopub.status.idle": "2021-08-10T18:27:06.565091Z",
     "shell.execute_reply": "2021-08-10T18:27:06.566316Z",
     "shell.execute_reply.started": "2021-08-08T08:35:16.580967Z"
    },
    "papermill": {
     "duration": 0.95947,
     "end_time": "2021-08-10T18:27:06.566622",
     "exception": false,
     "start_time": "2021-08-10T18:27:05.607152",
     "status": "completed"
    },
    "tags": []
   },
   "outputs": [
    {
     "name": "stdout",
     "output_type": "stream",
     "text": [
      "Training set score: 0.8487\n",
      "Test set score: 0.8485\n"
     ]
    }
   ],
   "source": [
    "# print the scores on training and test set\n",
    "\n",
    "print('Training set score: {:.4f}'.format(logreg100.score(X_train, y_train)))\n",
    "print('Test set score: {:.4f}'.format(logreg100.score(X_test, y_test)))"
   ]
  },
  {
   "cell_type": "markdown",
   "id": "bec47033",
   "metadata": {
    "papermill": {
     "duration": 0.095762,
     "end_time": "2021-08-10T18:27:06.759153",
     "exception": false,
     "start_time": "2021-08-10T18:27:06.663391",
     "status": "completed"
    },
    "tags": []
   },
   "source": [
    "We can see that, C=100 results in higher test set accuracy and also a slightly increased training set accuracy."
   ]
  },
  {
   "cell_type": "markdown",
   "id": "90c6fd67",
   "metadata": {
    "papermill": {
     "duration": 0.093447,
     "end_time": "2021-08-10T18:27:06.947031",
     "exception": false,
     "start_time": "2021-08-10T18:27:06.853584",
     "status": "completed"
    },
    "tags": []
   },
   "source": [
    "Lets see, what happens if we use more regularized model than the default value of C=1, by setting C=0.01."
   ]
  },
  {
   "cell_type": "code",
   "execution_count": 53,
   "id": "8ef40be0",
   "metadata": {
    "execution": {
     "iopub.execute_input": "2021-08-10T18:27:07.142305Z",
     "iopub.status.busy": "2021-08-10T18:27:07.141530Z",
     "iopub.status.idle": "2021-08-10T18:27:08.492609Z",
     "shell.execute_reply": "2021-08-10T18:27:08.493402Z",
     "shell.execute_reply.started": "2021-08-08T08:35:17.437397Z"
    },
    "papermill": {
     "duration": 1.452517,
     "end_time": "2021-08-10T18:27:08.493684",
     "exception": false,
     "start_time": "2021-08-10T18:27:07.041167",
     "status": "completed"
    },
    "tags": []
   },
   "outputs": [
    {
     "data": {
      "text/plain": [
       "LogisticRegression(C=0.01, random_state=0, solver='liblinear')"
      ]
     },
     "execution_count": 53,
     "metadata": {},
     "output_type": "execute_result"
    }
   ],
   "source": [
    "# fit the Logsitic Regression model with C=001\n",
    "\n",
    "# instantiate the model\n",
    "logreg001 = LogisticRegression(C=0.01, solver='liblinear', random_state=0)\n",
    "\n",
    "# fit the model\n",
    "logreg001.fit(X_train, y_train)"
   ]
  },
  {
   "cell_type": "code",
   "execution_count": 54,
   "id": "9b873917",
   "metadata": {
    "execution": {
     "iopub.execute_input": "2021-08-10T18:27:08.692540Z",
     "iopub.status.busy": "2021-08-10T18:27:08.691252Z",
     "iopub.status.idle": "2021-08-10T18:27:09.546429Z",
     "shell.execute_reply": "2021-08-10T18:27:09.545669Z",
     "shell.execute_reply.started": "2021-08-08T08:35:18.735069Z"
    },
    "papermill": {
     "duration": 0.958311,
     "end_time": "2021-08-10T18:27:09.546610",
     "exception": false,
     "start_time": "2021-08-10T18:27:08.588299",
     "status": "completed"
    },
    "tags": []
   },
   "outputs": [
    {
     "name": "stdout",
     "output_type": "stream",
     "text": [
      "Training set score: 0.8427\n",
      "Test set score: 0.8415\n"
     ]
    }
   ],
   "source": [
    "# print the scores on training and test set\n",
    "\n",
    "print('Training set score: {:.4f}'.format(logreg001.score(X_train, y_train)))\n",
    "print('Test set score: {:.4f}'.format(logreg001.score(X_test, y_test)))"
   ]
  },
  {
   "cell_type": "markdown",
   "id": "1511a091",
   "metadata": {
    "papermill": {
     "duration": 0.094945,
     "end_time": "2021-08-10T18:27:09.737098",
     "exception": false,
     "start_time": "2021-08-10T18:27:09.642153",
     "status": "completed"
    },
    "tags": []
   },
   "source": [
    "So, if we use more regularized model by setting C=0.01, then both the training and test set accuracy decrease relative to the default parameters."
   ]
  },
  {
   "cell_type": "markdown",
   "id": "92ac8283",
   "metadata": {
    "papermill": {
     "duration": 0.093349,
     "end_time": "2021-08-10T18:27:09.925737",
     "exception": false,
     "start_time": "2021-08-10T18:27:09.832388",
     "status": "completed"
    },
    "tags": []
   },
   "source": [
    "### Compare model accuracy with null accuracy"
   ]
  },
  {
   "cell_type": "code",
   "execution_count": 55,
   "id": "774da4f1",
   "metadata": {
    "execution": {
     "iopub.execute_input": "2021-08-10T18:27:10.129201Z",
     "iopub.status.busy": "2021-08-10T18:27:10.128345Z",
     "iopub.status.idle": "2021-08-10T18:27:10.131687Z",
     "shell.execute_reply": "2021-08-10T18:27:10.132267Z",
     "shell.execute_reply.started": "2021-08-08T08:35:19.587541Z"
    },
    "papermill": {
     "duration": 0.112079,
     "end_time": "2021-08-10T18:27:10.132433",
     "exception": false,
     "start_time": "2021-08-10T18:27:10.020354",
     "status": "completed"
    },
    "tags": []
   },
   "outputs": [
    {
     "data": {
      "text/plain": [
       "No     22726\n",
       "Yes     6366\n",
       "Name: RainTomorrow, dtype: int64"
      ]
     },
     "execution_count": 55,
     "metadata": {},
     "output_type": "execute_result"
    }
   ],
   "source": [
    "# check class distribution in test set\n",
    "\n",
    "y_test.value_counts()"
   ]
  },
  {
   "cell_type": "markdown",
   "id": "f7ebe7bd",
   "metadata": {
    "papermill": {
     "duration": 0.093438,
     "end_time": "2021-08-10T18:27:10.319566",
     "exception": false,
     "start_time": "2021-08-10T18:27:10.226128",
     "status": "completed"
    },
    "tags": []
   },
   "source": [
    "We can see that the occurences of most frequent class is 22726. So, we can calculate null accuracy by dividing 22726 by total number of occurences."
   ]
  },
  {
   "cell_type": "code",
   "execution_count": 56,
   "id": "e8961fbd",
   "metadata": {
    "execution": {
     "iopub.execute_input": "2021-08-10T18:27:10.511029Z",
     "iopub.status.busy": "2021-08-10T18:27:10.509983Z",
     "iopub.status.idle": "2021-08-10T18:27:10.516729Z",
     "shell.execute_reply": "2021-08-10T18:27:10.515957Z",
     "shell.execute_reply.started": "2021-08-08T08:35:19.603463Z"
    },
    "papermill": {
     "duration": 0.103607,
     "end_time": "2021-08-10T18:27:10.516927",
     "exception": false,
     "start_time": "2021-08-10T18:27:10.413320",
     "status": "completed"
    },
    "tags": []
   },
   "outputs": [
    {
     "name": "stdout",
     "output_type": "stream",
     "text": [
      "Null accuracy score: 0.7812\n"
     ]
    }
   ],
   "source": [
    "# check null accuracy score\n",
    "\n",
    "null_accuracy = (22726/(22726+6366))\n",
    "print('Null accuracy score: {0:0.4f}'. format(null_accuracy))"
   ]
  },
  {
   "cell_type": "markdown",
   "id": "46ff830e",
   "metadata": {
    "papermill": {
     "duration": 0.096376,
     "end_time": "2021-08-10T18:27:10.708463",
     "exception": false,
     "start_time": "2021-08-10T18:27:10.612087",
     "status": "completed"
    },
    "tags": []
   },
   "source": [
    "We can see that our model accuracy score is 0.8485 but null accuracy score is 0.7812. So, we can conclude that our Logistic Regression model is doing a very good job in predicting the class labels."
   ]
  },
  {
   "cell_type": "markdown",
   "id": "2f1f0fd1",
   "metadata": {
    "papermill": {
     "duration": 0.094401,
     "end_time": "2021-08-10T18:27:10.897623",
     "exception": false,
     "start_time": "2021-08-10T18:27:10.803222",
     "status": "completed"
    },
    "tags": []
   },
   "source": [
    "## How would you evaluate your model and why do you consider the model as a good fit?\n",
    "### Model Evaluation\n",
    "#### Confusion matrix\n"
   ]
  },
  {
   "cell_type": "code",
   "execution_count": 57,
   "id": "458d196e",
   "metadata": {
    "execution": {
     "iopub.execute_input": "2021-08-10T18:27:11.092919Z",
     "iopub.status.busy": "2021-08-10T18:27:11.091948Z",
     "iopub.status.idle": "2021-08-10T18:27:11.381070Z",
     "shell.execute_reply": "2021-08-10T18:27:11.380395Z",
     "shell.execute_reply.started": "2021-08-08T08:35:19.611803Z"
    },
    "papermill": {
     "duration": 0.387607,
     "end_time": "2021-08-10T18:27:11.381293",
     "exception": false,
     "start_time": "2021-08-10T18:27:10.993686",
     "status": "completed"
    },
    "tags": []
   },
   "outputs": [
    {
     "name": "stdout",
     "output_type": "stream",
     "text": [
      "Confusion matrix\n",
      "\n",
      " [[21551  1175]\n",
      " [ 3226  3140]]\n",
      "\n",
      "True Positives(TP) =  21551\n",
      "\n",
      "True Negatives(TN) =  3140\n",
      "\n",
      "False Positives(FP) =  1175\n",
      "\n",
      "False Negatives(FN) =  3226\n"
     ]
    }
   ],
   "source": [
    "# Print the Confusion Matrix and slice it into four pieces\n",
    "\n",
    "from sklearn.metrics import confusion_matrix\n",
    "\n",
    "cm = confusion_matrix(y_test, y_pred_test)\n",
    "print('Confusion matrix\\n\\n', cm)\n",
    "print('\\nTrue Positives(TP) = ', cm[0,0])\n",
    "print('\\nTrue Negatives(TN) = ', cm[1,1])\n",
    "print('\\nFalse Positives(FP) = ', cm[0,1])\n",
    "print('\\nFalse Negatives(FN) = ', cm[1,0])"
   ]
  },
  {
   "cell_type": "code",
   "execution_count": 58,
   "id": "2614d72e",
   "metadata": {
    "execution": {
     "iopub.execute_input": "2021-08-10T18:27:11.597984Z",
     "iopub.status.busy": "2021-08-10T18:27:11.597079Z",
     "iopub.status.idle": "2021-08-10T18:27:11.885868Z",
     "shell.execute_reply": "2021-08-10T18:27:11.885121Z",
     "shell.execute_reply.started": "2021-08-08T08:35:19.90331Z"
    },
    "papermill": {
     "duration": 0.408759,
     "end_time": "2021-08-10T18:27:11.886059",
     "exception": false,
     "start_time": "2021-08-10T18:27:11.477300",
     "status": "completed"
    },
    "tags": []
   },
   "outputs": [
    {
     "data": {
      "text/plain": [
       "<AxesSubplot:>"
      ]
     },
     "execution_count": 58,
     "metadata": {},
     "output_type": "execute_result"
    },
    {
     "data": {
      "image/png": "[encoded data removed]",
      "text/plain": [
       "<Figure size 432x288 with 2 Axes>"
      ]
     },
     "metadata": {
      "needs_background": "light"
     },
     "output_type": "display_data"
    }
   ],
   "source": [
    "# visualize confusion matrix with seaborn heatmap\n",
    "\n",
    "cm_matrix = pd.DataFrame(data=cm, columns=['Actual Positive:1', 'Actual Negative:0'], \n",
    "                                 index=['Predict Positive:1', 'Predict Negative:0'])\n",
    "sns.heatmap(cm_matrix, annot=True, fmt='d', cmap='YlGnBu')"
   ]
  },
  {
   "cell_type": "markdown",
   "id": "dacaba4f",
   "metadata": {
    "papermill": {
     "duration": 0.096061,
     "end_time": "2021-08-10T18:27:12.079946",
     "exception": false,
     "start_time": "2021-08-10T18:27:11.983885",
     "status": "completed"
    },
    "tags": []
   },
   "source": [
    "#### Classification metrices"
   ]
  },
  {
   "cell_type": "code",
   "execution_count": 59,
   "id": "7a3a610e",
   "metadata": {
    "execution": {
     "iopub.execute_input": "2021-08-10T18:27:12.338424Z",
     "iopub.status.busy": "2021-08-10T18:27:12.336517Z",
     "iopub.status.idle": "2021-08-10T18:27:14.652138Z",
     "shell.execute_reply": "2021-08-10T18:27:14.651495Z",
     "shell.execute_reply.started": "2021-08-08T08:35:20.274005Z"
    },
    "papermill": {
     "duration": 2.476577,
     "end_time": "2021-08-10T18:27:14.652277",
     "exception": false,
     "start_time": "2021-08-10T18:27:12.175700",
     "status": "completed"
    },
    "tags": []
   },
   "outputs": [
    {
     "name": "stdout",
     "output_type": "stream",
     "text": [
      "              precision    recall  f1-score   support\n",
      "\n",
      "          No       0.87      0.95      0.91     22726\n",
      "         Yes       0.73      0.49      0.59      6366\n",
      "\n",
      "    accuracy                           0.85     29092\n",
      "   macro avg       0.80      0.72      0.75     29092\n",
      "weighted avg       0.84      0.85      0.84     29092\n",
      "\n"
     ]
    }
   ],
   "source": [
    "from sklearn.metrics import classification_report\n",
    "\n",
    "print(classification_report(y_test, y_pred_test))"
   ]
  },
  {
   "cell_type": "code",
   "execution_count": 60,
   "id": "7d038b52",
   "metadata": {
    "execution": {
     "iopub.execute_input": "2021-08-10T18:27:14.851641Z",
     "iopub.status.busy": "2021-08-10T18:27:14.850937Z",
     "iopub.status.idle": "2021-08-10T18:27:14.854081Z",
     "shell.execute_reply": "2021-08-10T18:27:14.853548Z",
     "shell.execute_reply.started": "2021-08-08T08:35:22.633778Z"
    },
    "papermill": {
     "duration": 0.104766,
     "end_time": "2021-08-10T18:27:14.854217",
     "exception": false,
     "start_time": "2021-08-10T18:27:14.749451",
     "status": "completed"
    },
    "tags": []
   },
   "outputs": [],
   "source": [
    "# classification accuracy\n",
    "TP = cm[0,0]\n",
    "TN = cm[1,1]\n",
    "FP = cm[0,1]\n",
    "FN = cm[1,0]"
   ]
  },
  {
   "cell_type": "code",
   "execution_count": 61,
   "id": "23398809",
   "metadata": {
    "execution": {
     "iopub.execute_input": "2021-08-10T18:27:15.052905Z",
     "iopub.status.busy": "2021-08-10T18:27:15.052215Z",
     "iopub.status.idle": "2021-08-10T18:27:15.056283Z",
     "shell.execute_reply": "2021-08-10T18:27:15.055667Z",
     "shell.execute_reply.started": "2021-08-08T08:35:22.640324Z"
    },
    "papermill": {
     "duration": 0.105377,
     "end_time": "2021-08-10T18:27:15.056423",
     "exception": false,
     "start_time": "2021-08-10T18:27:14.951046",
     "status": "completed"
    },
    "tags": []
   },
   "outputs": [
    {
     "name": "stdout",
     "output_type": "stream",
     "text": [
      "Classification accuracy : 0.8487\n"
     ]
    }
   ],
   "source": [
    "# print classification accuracy\n",
    "\n",
    "classification_accuracy = (TP + TN) / float(TP + TN + FP + FN)\n",
    "print('Classification accuracy : {0:0.4f}'.format(classification_accuracy))"
   ]
  },
  {
   "cell_type": "code",
   "execution_count": 62,
   "id": "7c0ceaa8",
   "metadata": {
    "execution": {
     "iopub.execute_input": "2021-08-10T18:27:15.256757Z",
     "iopub.status.busy": "2021-08-10T18:27:15.256048Z",
     "iopub.status.idle": "2021-08-10T18:27:15.258848Z",
     "shell.execute_reply": "2021-08-10T18:27:15.259445Z",
     "shell.execute_reply.started": "2021-08-08T08:35:22.653779Z"
    },
    "papermill": {
     "duration": 0.106238,
     "end_time": "2021-08-10T18:27:15.259642",
     "exception": false,
     "start_time": "2021-08-10T18:27:15.153404",
     "status": "completed"
    },
    "tags": []
   },
   "outputs": [
    {
     "name": "stdout",
     "output_type": "stream",
     "text": [
      "Classification error : 0.1513\n"
     ]
    }
   ],
   "source": [
    "# print classification error\n",
    "\n",
    "classification_error = (FP + FN) / float(TP + TN + FP + FN)\n",
    "print('Classification error : {0:0.4f}'.format(classification_error))"
   ]
  },
  {
   "cell_type": "code",
   "execution_count": 63,
   "id": "688ebd36",
   "metadata": {
    "execution": {
     "iopub.execute_input": "2021-08-10T18:27:15.459536Z",
     "iopub.status.busy": "2021-08-10T18:27:15.458830Z",
     "iopub.status.idle": "2021-08-10T18:27:15.462950Z",
     "shell.execute_reply": "2021-08-10T18:27:15.462359Z",
     "shell.execute_reply.started": "2021-08-08T08:35:22.667551Z"
    },
    "papermill": {
     "duration": 0.105973,
     "end_time": "2021-08-10T18:27:15.463094",
     "exception": false,
     "start_time": "2021-08-10T18:27:15.357121",
     "status": "completed"
    },
    "tags": []
   },
   "outputs": [
    {
     "name": "stdout",
     "output_type": "stream",
     "text": [
      "Precision : 0.9483\n"
     ]
    }
   ],
   "source": [
    "# print precision score\n",
    "\n",
    "precision = TP / float(TP + FP)\n",
    "print('Precision : {0:0.4f}'.format(precision))"
   ]
  },
  {
   "cell_type": "code",
   "execution_count": 64,
   "id": "a296ee06",
   "metadata": {
    "execution": {
     "iopub.execute_input": "2021-08-10T18:27:15.667945Z",
     "iopub.status.busy": "2021-08-10T18:27:15.667240Z",
     "iopub.status.idle": "2021-08-10T18:27:15.670217Z",
     "shell.execute_reply": "2021-08-10T18:27:15.670752Z",
     "shell.execute_reply.started": "2021-08-08T08:35:22.678319Z"
    },
    "papermill": {
     "duration": 0.110483,
     "end_time": "2021-08-10T18:27:15.670928",
     "exception": false,
     "start_time": "2021-08-10T18:27:15.560445",
     "status": "completed"
    },
    "tags": []
   },
   "outputs": [
    {
     "name": "stdout",
     "output_type": "stream",
     "text": [
      "Recall or Sensitivity : 0.8698\n"
     ]
    }
   ],
   "source": [
    "recall = TP / float(TP + FN)\n",
    "print('Recall or Sensitivity : {0:0.4f}'.format(recall))"
   ]
  },
  {
   "cell_type": "code",
   "execution_count": 65,
   "id": "927cf08b",
   "metadata": {
    "execution": {
     "iopub.execute_input": "2021-08-10T18:27:15.876218Z",
     "iopub.status.busy": "2021-08-10T18:27:15.875305Z",
     "iopub.status.idle": "2021-08-10T18:27:15.879452Z",
     "shell.execute_reply": "2021-08-10T18:27:15.880004Z",
     "shell.execute_reply.started": "2021-08-08T08:35:22.691094Z"
    },
    "papermill": {
     "duration": 0.108413,
     "end_time": "2021-08-10T18:27:15.880182",
     "exception": false,
     "start_time": "2021-08-10T18:27:15.771769",
     "status": "completed"
    },
    "tags": []
   },
   "outputs": [
    {
     "name": "stdout",
     "output_type": "stream",
     "text": [
      "True Positive Rate : 0.8698\n"
     ]
    }
   ],
   "source": [
    "# True Positive Rate is synonymous with Recall.\n",
    "\n",
    "true_positive_rate = TP / float(TP + FN)\n",
    "print('True Positive Rate : {0:0.4f}'.format(true_positive_rate))"
   ]
  },
  {
   "cell_type": "code",
   "execution_count": 66,
   "id": "5cf9fdf9",
   "metadata": {
    "execution": {
     "iopub.execute_input": "2021-08-10T18:27:16.085731Z",
     "iopub.status.busy": "2021-08-10T18:27:16.084898Z",
     "iopub.status.idle": "2021-08-10T18:27:16.089402Z",
     "shell.execute_reply": "2021-08-10T18:27:16.088836Z",
     "shell.execute_reply.started": "2021-08-08T08:35:22.701999Z"
    },
    "papermill": {
     "duration": 0.109395,
     "end_time": "2021-08-10T18:27:16.089591",
     "exception": false,
     "start_time": "2021-08-10T18:27:15.980196",
     "status": "completed"
    },
    "tags": []
   },
   "outputs": [
    {
     "name": "stdout",
     "output_type": "stream",
     "text": [
      "False Positive Rate : 0.2723\n"
     ]
    }
   ],
   "source": [
    "# False Positive Rate\n",
    "\n",
    "false_positive_rate = FP / float(FP + TN)\n",
    "print('False Positive Rate : {0:0.4f}'.format(false_positive_rate))"
   ]
  },
  {
   "cell_type": "code",
   "execution_count": 67,
   "id": "8767e938",
   "metadata": {
    "execution": {
     "iopub.execute_input": "2021-08-10T18:27:16.296690Z",
     "iopub.status.busy": "2021-08-10T18:27:16.295836Z",
     "iopub.status.idle": "2021-08-10T18:27:16.299897Z",
     "shell.execute_reply": "2021-08-10T18:27:16.299255Z",
     "shell.execute_reply.started": "2021-08-08T08:35:22.712295Z"
    },
    "papermill": {
     "duration": 0.108199,
     "end_time": "2021-08-10T18:27:16.300037",
     "exception": false,
     "start_time": "2021-08-10T18:27:16.191838",
     "status": "completed"
    },
    "tags": []
   },
   "outputs": [
    {
     "name": "stdout",
     "output_type": "stream",
     "text": [
      "Specificity : 0.7277\n"
     ]
    }
   ],
   "source": [
    "# Specificity\n",
    "\n",
    "specificity = TN / (TN + FP)\n",
    "print('Specificity : {0:0.4f}'.format(specificity))"
   ]
  },
  {
   "cell_type": "markdown",
   "id": "b32f9442",
   "metadata": {
    "papermill": {
     "duration": 0.098953,
     "end_time": "2021-08-10T18:27:16.498055",
     "exception": false,
     "start_time": "2021-08-10T18:27:16.399102",
     "status": "completed"
    },
    "tags": []
   },
   "source": [
    "#### Adjusting the threshold level"
   ]
  },
  {
   "cell_type": "code",
   "execution_count": 68,
   "id": "1a2d8dbd",
   "metadata": {
    "execution": {
     "iopub.execute_input": "2021-08-10T18:27:16.712077Z",
     "iopub.status.busy": "2021-08-10T18:27:16.705313Z",
     "iopub.status.idle": "2021-08-10T18:27:16.722237Z",
     "shell.execute_reply": "2021-08-10T18:27:16.721003Z",
     "shell.execute_reply.started": "2021-08-08T08:35:22.722469Z"
    },
    "papermill": {
     "duration": 0.123907,
     "end_time": "2021-08-10T18:27:16.722489",
     "exception": false,
     "start_time": "2021-08-10T18:27:16.598582",
     "status": "completed"
    },
    "tags": []
   },
   "outputs": [
    {
     "data": {
      "text/plain": [
       "array([[0.84275142, 0.15724858],\n",
       "       [0.74197807, 0.25802193],\n",
       "       [0.79346063, 0.20653937],\n",
       "       [0.59508094, 0.40491906],\n",
       "       [0.92025869, 0.07974131],\n",
       "       [0.95595664, 0.04404336],\n",
       "       [0.5778936 , 0.4221064 ],\n",
       "       [0.52541746, 0.47458254],\n",
       "       [0.80685774, 0.19314226],\n",
       "       [0.72526835, 0.27473165]])"
      ]
     },
     "execution_count": 68,
     "metadata": {},
     "output_type": "execute_result"
    }
   ],
   "source": [
    "# print the first 10 predicted probabilities of two classes- 0 and 1\n",
    "\n",
    "y_pred_prob = logreg.predict_proba(X_test)[0:10]\n",
    "y_pred_prob"
   ]
  },
  {
   "cell_type": "code",
   "execution_count": 69,
   "id": "332ebae5",
   "metadata": {
    "execution": {
     "iopub.execute_input": "2021-08-10T18:27:16.976725Z",
     "iopub.status.busy": "2021-08-10T18:27:16.976066Z",
     "iopub.status.idle": "2021-08-10T18:27:16.979709Z",
     "shell.execute_reply": "2021-08-10T18:27:16.980211Z",
     "shell.execute_reply.started": "2021-08-08T08:35:22.745484Z"
    },
    "papermill": {
     "duration": 0.113054,
     "end_time": "2021-08-10T18:27:16.980380",
     "exception": false,
     "start_time": "2021-08-10T18:27:16.867326",
     "status": "completed"
    },
    "tags": []
   },
   "outputs": [
    {
     "data": {
      "text/html": [
       "<div>\n",
       "<style scoped>\n",
       "    .dataframe tbody tr th:only-of-type {\n",
       "        vertical-align: middle;\n",
       "    }\n",
       "\n",
       "    .dataframe tbody tr th {\n",
       "        vertical-align: top;\n",
       "    }\n",
       "\n",
       "    .dataframe thead th {\n",
       "        text-align: right;\n",
       "    }\n",
       "</style>\n",
       "<table border=\"1\" class=\"dataframe\">\n",
       "  <thead>\n",
       "    <tr style=\"text-align: right;\">\n",
       "      <th></th>\n",
       "      <th>Prob of - No rain tomorrow (0)</th>\n",
       "      <th>Prob of - Rain tomorrow (1)</th>\n",
       "    </tr>\n",
       "  </thead>\n",
       "  <tbody>\n",
       "    <tr>\n",
       "      <th>0</th>\n",
       "      <td>0.842751</td>\n",
       "      <td>0.157249</td>\n",
       "    </tr>\n",
       "    <tr>\n",
       "      <th>1</th>\n",
       "      <td>0.741978</td>\n",
       "      <td>0.258022</td>\n",
       "    </tr>\n",
       "    <tr>\n",
       "      <th>2</th>\n",
       "      <td>0.793461</td>\n",
       "      <td>0.206539</td>\n",
       "    </tr>\n",
       "    <tr>\n",
       "      <th>3</th>\n",
       "      <td>0.595081</td>\n",
       "      <td>0.404919</td>\n",
       "    </tr>\n",
       "    <tr>\n",
       "      <th>4</th>\n",
       "      <td>0.920259</td>\n",
       "      <td>0.079741</td>\n",
       "    </tr>\n",
       "    <tr>\n",
       "      <th>5</th>\n",
       "      <td>0.955957</td>\n",
       "      <td>0.044043</td>\n",
       "    </tr>\n",
       "    <tr>\n",
       "      <th>6</th>\n",
       "      <td>0.577894</td>\n",
       "      <td>0.422106</td>\n",
       "    </tr>\n",
       "    <tr>\n",
       "      <th>7</th>\n",
       "      <td>0.525417</td>\n",
       "      <td>0.474583</td>\n",
       "    </tr>\n",
       "    <tr>\n",
       "      <th>8</th>\n",
       "      <td>0.806858</td>\n",
       "      <td>0.193142</td>\n",
       "    </tr>\n",
       "    <tr>\n",
       "      <th>9</th>\n",
       "      <td>0.725268</td>\n",
       "      <td>0.274732</td>\n",
       "    </tr>\n",
       "  </tbody>\n",
       "</table>\n",
       "</div>"
      ],
      "text/plain": [
       "   Prob of - No rain tomorrow (0)  Prob of - Rain tomorrow (1)\n",
       "0                        0.842751                     0.157249\n",
       "1                        0.741978                     0.258022\n",
       "2                        0.793461                     0.206539\n",
       "3                        0.595081                     0.404919\n",
       "4                        0.920259                     0.079741\n",
       "5                        0.955957                     0.044043\n",
       "6                        0.577894                     0.422106\n",
       "7                        0.525417                     0.474583\n",
       "8                        0.806858                     0.193142\n",
       "9                        0.725268                     0.274732"
      ]
     },
     "execution_count": 69,
     "metadata": {},
     "output_type": "execute_result"
    }
   ],
   "source": [
    "# store the probabilities in dataframe\n",
    "\n",
    "y_pred_prob_df = pd.DataFrame(data=y_pred_prob, columns=['Prob of - No rain tomorrow (0)', 'Prob of - Rain tomorrow (1)'])\n",
    "y_pred_prob_df"
   ]
  },
  {
   "cell_type": "code",
   "execution_count": 70,
   "id": "80b07b7d",
   "metadata": {
    "execution": {
     "iopub.execute_input": "2021-08-10T18:27:17.187591Z",
     "iopub.status.busy": "2021-08-10T18:27:17.186838Z",
     "iopub.status.idle": "2021-08-10T18:27:17.199326Z",
     "shell.execute_reply": "2021-08-10T18:27:17.200382Z",
     "shell.execute_reply.started": "2021-08-08T08:35:22.763464Z"
    },
    "papermill": {
     "duration": 0.120959,
     "end_time": "2021-08-10T18:27:17.200686",
     "exception": false,
     "start_time": "2021-08-10T18:27:17.079727",
     "status": "completed"
    },
    "tags": []
   },
   "outputs": [
    {
     "data": {
      "text/plain": [
       "array([0.15724858, 0.25802193, 0.20653937, 0.40491906, 0.07974131,\n",
       "       0.04404336, 0.4221064 , 0.47458254, 0.19314226, 0.27473165])"
      ]
     },
     "execution_count": 70,
     "metadata": {},
     "output_type": "execute_result"
    }
   ],
   "source": [
    "# print the first 10 predicted probabilities for class 1 - Probability of rain\n",
    "\n",
    "logreg.predict_proba(X_test)[0:10, 1]"
   ]
  },
  {
   "cell_type": "code",
   "execution_count": 71,
   "id": "1b1fe3ae",
   "metadata": {
    "execution": {
     "iopub.execute_input": "2021-08-10T18:27:17.455256Z",
     "iopub.status.busy": "2021-08-10T18:27:17.454553Z",
     "iopub.status.idle": "2021-08-10T18:27:17.464394Z",
     "shell.execute_reply": "2021-08-10T18:27:17.465307Z",
     "shell.execute_reply.started": "2021-08-08T08:35:22.788098Z"
    },
    "papermill": {
     "duration": 0.117518,
     "end_time": "2021-08-10T18:27:17.465607",
     "exception": false,
     "start_time": "2021-08-10T18:27:17.348089",
     "status": "completed"
    },
    "tags": []
   },
   "outputs": [],
   "source": [
    "# store the predicted probabilities for class 1 - Probability of rain\n",
    "\n",
    "y_pred1 = logreg.predict_proba(X_test)[:, 1]"
   ]
  },
  {
   "cell_type": "code",
   "execution_count": 72,
   "id": "7c74b4c7",
   "metadata": {
    "execution": {
     "iopub.execute_input": "2021-08-10T18:27:17.841920Z",
     "iopub.status.busy": "2021-08-10T18:27:17.833679Z",
     "iopub.status.idle": "2021-08-10T18:27:18.030509Z",
     "shell.execute_reply": "2021-08-10T18:27:18.029959Z",
     "shell.execute_reply.started": "2021-08-08T08:35:22.806526Z"
    },
    "papermill": {
     "duration": 0.415801,
     "end_time": "2021-08-10T18:27:18.030660",
     "exception": false,
     "start_time": "2021-08-10T18:27:17.614859",
     "status": "completed"
    },
    "tags": []
   },
   "outputs": [
    {
     "data": {
      "text/plain": [
       "Text(0, 0.5, 'Frequency')"
      ]
     },
     "execution_count": 72,
     "metadata": {},
     "output_type": "execute_result"
    },
    {
     "data": {
      "image/png": "[encoded data removed]",
      "text/plain": [
       "<Figure size 432x288 with 1 Axes>"
      ]
     },
     "metadata": {
      "needs_background": "light"
     },
     "output_type": "display_data"
    }
   ],
   "source": [
    "# plot histogram of predicted probabilities\n",
    "\n",
    "# adjust the font size \n",
    "plt.rcParams['font.size'] = 12\n",
    "\n",
    "# plot histogram with 10 bins\n",
    "plt.hist(y_pred1, bins = 10)\n",
    "\n",
    "# set the title of predicted probabilities\n",
    "plt.title('Histogram of predicted probabilities of rain')\n",
    "\n",
    "# set the x-axis limit\n",
    "plt.xlim(0,1)\n",
    "\n",
    "# set the title\n",
    "plt.xlabel('Predicted probabilities of rain')\n",
    "plt.ylabel('Frequency')"
   ]
  },
  {
   "cell_type": "markdown",
   "id": "f146fac5",
   "metadata": {
    "papermill": {
     "duration": 0.100644,
     "end_time": "2021-08-10T18:27:18.234377",
     "exception": false,
     "start_time": "2021-08-10T18:27:18.133733",
     "status": "completed"
    },
    "tags": []
   },
   "source": [
    "Lower the threshold"
   ]
  },
  {
   "cell_type": "code",
   "execution_count": 73,
   "id": "0d087cce",
   "metadata": {
    "execution": {
     "iopub.execute_input": "2021-08-10T18:27:18.448738Z",
     "iopub.status.busy": "2021-08-10T18:27:18.445052Z",
     "iopub.status.idle": "2021-08-10T18:27:20.185939Z",
     "shell.execute_reply": "2021-08-10T18:27:20.185337Z",
     "shell.execute_reply.started": "2021-08-08T08:35:23.046558Z"
    },
    "papermill": {
     "duration": 1.85054,
     "end_time": "2021-08-10T18:27:20.186092",
     "exception": false,
     "start_time": "2021-08-10T18:27:18.335552",
     "status": "completed"
    },
    "tags": []
   },
   "outputs": [
    {
     "name": "stdout",
     "output_type": "stream",
     "text": [
      "With 0.1 threshold the Confusion Matrix is  \n",
      "\n",
      " [[13243  9483]\n",
      " [  578  5788]] \n",
      "\n",
      " with 19031 correct predictions,  \n",
      "\n",
      " 9483 Type I errors( False Positives),  \n",
      "\n",
      " 578 Type II errors( False Negatives),  \n",
      "\n",
      " Accuracy score:  0.6541660937714836 \n",
      "\n",
      " Sensitivity:  0.9092051523719761 \n",
      "\n",
      " Specificity:  0.5827246325794244 \n",
      "\n",
      " ==================================================== \n",
      "\n",
      "\n",
      "With 0.2 threshold the Confusion Matrix is  \n",
      "\n",
      " [[17759  4967]\n",
      " [ 1355  5011]] \n",
      "\n",
      " with 22770 correct predictions,  \n",
      "\n",
      " 4967 Type I errors( False Positives),  \n",
      "\n",
      " 1355 Type II errors( False Negatives),  \n",
      "\n",
      " Accuracy score:  0.782689399147532 \n",
      "\n",
      " Sensitivity:  0.7871504869619855 \n",
      "\n",
      " Specificity:  0.781439760626595 \n",
      "\n",
      " ==================================================== \n",
      "\n",
      "\n",
      "With 0.3 threshold the Confusion Matrix is  \n",
      "\n",
      " [[19732  2994]\n",
      " [ 2043  4323]] \n",
      "\n",
      " with 24055 correct predictions,  \n",
      "\n",
      " 2994 Type I errors( False Positives),  \n",
      "\n",
      " 2043 Type II errors( False Negatives),  \n",
      "\n",
      " Accuracy score:  0.8268596177643338 \n",
      "\n",
      " Sensitivity:  0.679076343072573 \n",
      "\n",
      " Specificity:  0.8682566223708528 \n",
      "\n",
      " ==================================================== \n",
      "\n",
      "\n",
      "With 0.4 threshold the Confusion Matrix is  \n",
      "\n",
      " [[20829  1897]\n",
      " [ 2657  3709]] \n",
      "\n",
      " with 24538 correct predictions,  \n",
      "\n",
      " 1897 Type I errors( False Positives),  \n",
      "\n",
      " 2657 Type II errors( False Negatives),  \n",
      "\n",
      " Accuracy score:  0.8434621201704936 \n",
      "\n",
      " Sensitivity:  0.5826264530317311 \n",
      "\n",
      " Specificity:  0.9165273255302296 \n",
      "\n",
      " ==================================================== \n",
      "\n",
      "\n"
     ]
    }
   ],
   "source": [
    "from sklearn.preprocessing import binarize\n",
    "\n",
    "for i in range(1,5):\n",
    "    cm1=0\n",
    "    y_pred1 = logreg.predict_proba(X_test)[:,1]\n",
    "    y_pred1 = y_pred1.reshape(-1,1)\n",
    "    y_pred2 = binarize(y_pred1, i/10)\n",
    "    y_pred2 = np.where(y_pred2 == 1, 'Yes', 'No')\n",
    "    cm1 = confusion_matrix(y_test, y_pred2)    \n",
    "    print ('With',i/10,'threshold the Confusion Matrix is ','\\n\\n',cm1,'\\n\\n',\n",
    "            'with',cm1[0,0]+cm1[1,1],'correct predictions, ', '\\n\\n', \n",
    "            cm1[0,1],'Type I errors( False Positives), ','\\n\\n',\n",
    "            cm1[1,0],'Type II errors( False Negatives), ','\\n\\n',\n",
    "           'Accuracy score: ', (accuracy_score(y_test, y_pred2)), '\\n\\n',\n",
    "           'Sensitivity: ',cm1[1,1]/(float(cm1[1,1]+cm1[1,0])), '\\n\\n',\n",
    "           'Specificity: ',cm1[0,0]/(float(cm1[0,0]+cm1[0,1])),'\\n\\n',\n",
    "            '====================================================', '\\n\\n')"
   ]
  },
  {
   "cell_type": "markdown",
   "id": "c44b147f",
   "metadata": {
    "papermill": {
     "duration": 0.102415,
     "end_time": "2021-08-10T18:27:20.391864",
     "exception": false,
     "start_time": "2021-08-10T18:27:20.289449",
     "status": "completed"
    },
    "tags": []
   },
   "source": [
    "#### ROC - AUC"
   ]
  },
  {
   "cell_type": "code",
   "execution_count": 74,
   "id": "5069b3bf",
   "metadata": {
    "execution": {
     "iopub.execute_input": "2021-08-10T18:27:20.607977Z",
     "iopub.status.busy": "2021-08-10T18:27:20.606798Z",
     "iopub.status.idle": "2021-08-10T18:27:20.877133Z",
     "shell.execute_reply": "2021-08-10T18:27:20.878040Z",
     "shell.execute_reply.started": "2021-08-08T08:35:24.767019Z"
    },
    "papermill": {
     "duration": 0.384684,
     "end_time": "2021-08-10T18:27:20.878524",
     "exception": false,
     "start_time": "2021-08-10T18:27:20.493840",
     "status": "completed"
    },
    "tags": []
   },
   "outputs": [
    {
     "data": {
      "image/png": "[encoded data removed]",
      "text/plain": [
       "<Figure size 432x288 with 1 Axes>"
      ]
     },
     "metadata": {
      "needs_background": "light"
     },
     "output_type": "display_data"
    }
   ],
   "source": [
    "# plot ROC Curve\n",
    "\n",
    "from sklearn.metrics import roc_curve\n",
    "\n",
    "fpr, tpr, thresholds = roc_curve(y_test, y_pred1, pos_label = 'Yes')\n",
    "plt.figure(figsize=(6,4))\n",
    "plt.plot(fpr, tpr, linewidth=2)\n",
    "plt.plot([0,1], [0,1], 'k--' )\n",
    "plt.rcParams['font.size'] = 12\n",
    "plt.title('ROC curve for RainTomorrow classifier')\n",
    "plt.xlabel('False Positive Rate (1 - Specificity)')\n",
    "plt.ylabel('True Positive Rate (Sensitivity)')\n",
    "\n",
    "plt.show()"
   ]
  },
  {
   "cell_type": "markdown",
   "id": "55811d81",
   "metadata": {
    "papermill": {
     "duration": 0.108214,
     "end_time": "2021-08-10T18:27:21.102636",
     "exception": false,
     "start_time": "2021-08-10T18:27:20.994422",
     "status": "completed"
    },
    "tags": []
   },
   "source": [
    "#### ROC-AUC"
   ]
  },
  {
   "cell_type": "code",
   "execution_count": 75,
   "id": "15af7c17",
   "metadata": {
    "execution": {
     "iopub.execute_input": "2021-08-10T18:27:21.322308Z",
     "iopub.status.busy": "2021-08-10T18:27:21.321295Z",
     "iopub.status.idle": "2021-08-10T18:27:21.456673Z",
     "shell.execute_reply": "2021-08-10T18:27:21.456087Z",
     "shell.execute_reply.started": "2021-08-08T08:35:24.997404Z"
    },
    "papermill": {
     "duration": 0.246073,
     "end_time": "2021-08-10T18:27:21.456823",
     "exception": false,
     "start_time": "2021-08-10T18:27:21.210750",
     "status": "completed"
    },
    "tags": []
   },
   "outputs": [
    {
     "name": "stdout",
     "output_type": "stream",
     "text": [
      "ROC AUC : 0.8669\n"
     ]
    }
   ],
   "source": [
    "# compute ROC AUC\n",
    "\n",
    "from sklearn.metrics import roc_auc_score\n",
    "\n",
    "ROC_AUC = roc_auc_score(y_test, y_pred1)\n",
    "print('ROC AUC : {:.4f}'.format(ROC_AUC))"
   ]
  },
  {
   "cell_type": "code",
   "execution_count": 76,
   "id": "5cda9926",
   "metadata": {
    "execution": {
     "iopub.execute_input": "2021-08-10T18:27:21.844279Z",
     "iopub.status.busy": "2021-08-10T18:27:21.838320Z",
     "iopub.status.idle": "2021-08-10T18:27:33.803538Z",
     "shell.execute_reply": "2021-08-10T18:27:33.802263Z",
     "shell.execute_reply.started": "2021-08-08T08:35:25.134596Z"
    },
    "papermill": {
     "duration": 12.240815,
     "end_time": "2021-08-10T18:27:33.803758",
     "exception": false,
     "start_time": "2021-08-10T18:27:21.562943",
     "status": "completed"
    },
    "tags": []
   },
   "outputs": [
    {
     "name": "stdout",
     "output_type": "stream",
     "text": [
      "Cross validated ROC AUC : 0.8674\n"
     ]
    }
   ],
   "source": [
    "# calculate cross-validated ROC AUC \n",
    "\n",
    "from sklearn.model_selection import cross_val_score\n",
    "\n",
    "Cross_validated_ROC_AUC = cross_val_score(logreg, X_train, y_train, cv=5, scoring='roc_auc').mean()\n",
    "print('Cross validated ROC AUC : {:.4f}'.format(Cross_validated_ROC_AUC))"
   ]
  },
  {
   "cell_type": "markdown",
   "id": "7417ed64",
   "metadata": {
    "papermill": {
     "duration": 0.105507,
     "end_time": "2021-08-10T18:27:34.015156",
     "exception": false,
     "start_time": "2021-08-10T18:27:33.909649",
     "status": "completed"
    },
    "tags": []
   },
   "source": [
    "## What are the steps you will prefer to do for improving your model for further analysis?\n",
    "### Model Generalization\n",
    "#### k-Fold Cross Validation"
   ]
  },
  {
   "cell_type": "code",
   "execution_count": 77,
   "id": "75597315",
   "metadata": {
    "execution": {
     "iopub.execute_input": "2021-08-10T18:27:34.403219Z",
     "iopub.status.busy": "2021-08-10T18:27:34.397555Z",
     "iopub.status.idle": "2021-08-10T18:27:46.168226Z",
     "shell.execute_reply": "2021-08-10T18:27:46.167457Z",
     "shell.execute_reply.started": "2021-08-08T08:35:36.083757Z"
    },
    "papermill": {
     "duration": 12.047015,
     "end_time": "2021-08-10T18:27:46.168439",
     "exception": false,
     "start_time": "2021-08-10T18:27:34.121424",
     "status": "completed"
    },
    "tags": []
   },
   "outputs": [
    {
     "name": "stdout",
     "output_type": "stream",
     "text": [
      "Cross-validation scores:[0.84858641 0.84914497 0.84996133 0.84518541 0.84849396]\n"
     ]
    }
   ],
   "source": [
    "# Applying 5-Fold Cross Validation\n",
    "\n",
    "from sklearn.model_selection import cross_val_score\n",
    "\n",
    "scores = cross_val_score(logreg, X_train, y_train, cv = 5, scoring='accuracy')\n",
    "print('Cross-validation scores:{}'.format(scores))"
   ]
  },
  {
   "cell_type": "code",
   "execution_count": 78,
   "id": "4ddc90a1",
   "metadata": {
    "execution": {
     "iopub.execute_input": "2021-08-10T18:27:46.383242Z",
     "iopub.status.busy": "2021-08-10T18:27:46.382574Z",
     "iopub.status.idle": "2021-08-10T18:27:46.385936Z",
     "shell.execute_reply": "2021-08-10T18:27:46.386562Z",
     "shell.execute_reply.started": "2021-08-08T08:35:46.943419Z"
    },
    "papermill": {
     "duration": 0.113431,
     "end_time": "2021-08-10T18:27:46.386742",
     "exception": false,
     "start_time": "2021-08-10T18:27:46.273311",
     "status": "completed"
    },
    "tags": []
   },
   "outputs": [
    {
     "name": "stdout",
     "output_type": "stream",
     "text": [
      "Average cross-validation score: 0.8483\n"
     ]
    }
   ],
   "source": [
    "# compute Average cross-validation score\n",
    "\n",
    "print('Average cross-validation score: {:.4f}'.format(scores.mean()))"
   ]
  },
  {
   "cell_type": "markdown",
   "id": "b0d560e3",
   "metadata": {
    "papermill": {
     "duration": 0.12595,
     "end_time": "2021-08-10T18:27:46.617903",
     "exception": false,
     "start_time": "2021-08-10T18:27:46.491953",
     "status": "completed"
    },
    "tags": []
   },
   "source": [
    "The Average cross-validation score is 0.8483 and our model original score was 0.8485. So, it's not an improvement."
   ]
  },
  {
   "cell_type": "markdown",
   "id": "6423cd36",
   "metadata": {
    "papermill": {
     "duration": 0.106914,
     "end_time": "2021-08-10T18:27:46.834962",
     "exception": false,
     "start_time": "2021-08-10T18:27:46.728048",
     "status": "completed"
    },
    "tags": []
   },
   "source": [
    "#### Hyperparameter Optimization using GridSearch CV"
   ]
  },
  {
   "cell_type": "code",
   "execution_count": 79,
   "id": "994f4b58",
   "metadata": {
    "execution": {
     "iopub.execute_input": "2021-08-10T18:27:47.051026Z",
     "iopub.status.busy": "2021-08-10T18:27:47.050107Z",
     "iopub.status.idle": "2021-08-10T18:32:30.482905Z",
     "shell.execute_reply": "2021-08-10T18:32:30.483453Z",
     "shell.execute_reply.started": "2021-08-08T08:35:46.950225Z"
    },
    "papermill": {
     "duration": 283.541938,
     "end_time": "2021-08-10T18:32:30.483681",
     "exception": false,
     "start_time": "2021-08-10T18:27:46.941743",
     "status": "completed"
    },
    "scrolled": true,
    "tags": []
   },
   "outputs": [
    {
     "data": {
      "text/plain": [
       "GridSearchCV(cv=5,\n",
       "             estimator=LogisticRegression(random_state=0, solver='liblinear'),\n",
       "             param_grid=[{'penalty': ['l1', 'l2']}, {'C': [1, 10, 100, 1000]}],\n",
       "             scoring='accuracy')"
      ]
     },
     "execution_count": 79,
     "metadata": {},
     "output_type": "execute_result"
    }
   ],
   "source": [
    "from sklearn.model_selection import GridSearchCV\n",
    "\n",
    "parameters = [{'penalty':['l1','l2']}, \n",
    "              {'C':[1, 10, 100, 1000]}]\n",
    "\n",
    "grid_search = GridSearchCV(estimator = logreg,  \n",
    "                           param_grid = parameters,\n",
    "                           scoring = 'accuracy',\n",
    "                           cv = 5,\n",
    "                           verbose=0)\n",
    "\n",
    "grid_search.fit(X_train, y_train)"
   ]
  },
  {
   "cell_type": "code",
   "execution_count": 80,
   "id": "30ab478f",
   "metadata": {
    "execution": {
     "iopub.execute_input": "2021-08-10T18:32:30.707803Z",
     "iopub.status.busy": "2021-08-10T18:32:30.706234Z",
     "iopub.status.idle": "2021-08-10T18:32:30.712406Z",
     "shell.execute_reply": "2021-08-10T18:32:30.711897Z",
     "shell.execute_reply.started": "2021-08-08T08:39:50.863502Z"
    },
    "papermill": {
     "duration": 0.120062,
     "end_time": "2021-08-10T18:32:30.712587",
     "exception": false,
     "start_time": "2021-08-10T18:32:30.592525",
     "status": "completed"
    },
    "tags": []
   },
   "outputs": [
    {
     "name": "stdout",
     "output_type": "stream",
     "text": [
      "GridSearch CV best score : 0.8483\n",
      "\n",
      "\n",
      "Parameters that give the best results : \n",
      "\n",
      " {'C': 100}\n",
      "\n",
      "\n",
      "Estimator that was chosen by the search : \n",
      "\n",
      " LogisticRegression(C=100, random_state=0, solver='liblinear')\n"
     ]
    }
   ],
   "source": [
    "# examine the best model\n",
    "\n",
    "# best score achieved during the GridSearchCV\n",
    "print('GridSearch CV best score : {:.4f}\\n\\n'.format(grid_search.best_score_))\n",
    "# print parameters that give the best results\n",
    "print('Parameters that give the best results :','\\n\\n', (grid_search.best_params_))\n",
    "# print estimator that was chosen by the GridSearch\n",
    "print('\\n\\nEstimator that was chosen by the search :','\\n\\n', (grid_search.best_estimator_))"
   ]
  },
  {
   "cell_type": "code",
   "execution_count": 81,
   "id": "3679a8b2",
   "metadata": {
    "execution": {
     "iopub.execute_input": "2021-08-10T18:32:30.942715Z",
     "iopub.status.busy": "2021-08-10T18:32:30.941947Z",
     "iopub.status.idle": "2021-08-10T18:32:31.148639Z",
     "shell.execute_reply": "2021-08-10T18:32:31.148070Z",
     "shell.execute_reply.started": "2021-08-08T08:39:50.873439Z"
    },
    "papermill": {
     "duration": 0.32711,
     "end_time": "2021-08-10T18:32:31.148810",
     "exception": false,
     "start_time": "2021-08-10T18:32:30.821700",
     "status": "completed"
    },
    "tags": []
   },
   "outputs": [
    {
     "name": "stdout",
     "output_type": "stream",
     "text": [
      "GridSearch CV score on test set: 0.8485\n"
     ]
    }
   ],
   "source": [
    "# calculate GridSearch CV score on test set\n",
    "\n",
    "print('GridSearch CV score on test set: {0:0.4f}'.format(grid_search.score(X_test, y_test)))"
   ]
  },
  {
   "cell_type": "markdown",
   "id": "f4d4eebd",
   "metadata": {
    "papermill": {
     "duration": 0.107099,
     "end_time": "2021-08-10T18:32:31.363339",
     "exception": false,
     "start_time": "2021-08-10T18:32:31.256240",
     "status": "completed"
    },
    "tags": []
   },
   "source": [
    "The GridSearch CV score on test set is 0.8485 and our model original score was 0.8485."
   ]
  },
  {
   "cell_type": "markdown",
   "id": "d5487973",
   "metadata": {
    "papermill": {
     "duration": 0.108183,
     "end_time": "2021-08-10T18:32:31.579579",
     "exception": false,
     "start_time": "2021-08-10T18:32:31.471396",
     "status": "completed"
    },
    "tags": []
   },
   "source": [
    "## Conclusion\n",
    "\n",
    "\n",
    "- Our original model test accuracy is 0.8485 while GridSearch CV accuracy is 0.8485.\n",
    "\n",
    "- We can see that by doing a couple of model generalizing techniques did not improve the performance for this particular model.\n",
    "\n",
    "- So, we can confirm by the model evalution and generalization that our model suits best for the datasets predicting the rain on the next day."
   ]
  }
 ],
 "metadata": {
  "kernelspec": {
   "display_name": "Python 3",
   "language": "python",
   "name": "python3"
  },
  "language_info": {
   "codemirror_mode": {
    "name": "ipython",
    "version": 3
   },
   "file_extension": ".py",
   "mimetype": "text/x-python",
   "name": "python",
   "nbconvert_exporter": "python",
   "pygments_lexer": "ipython3",
   "version": "3.7.10"
  },
  "papermill": {
   "default_parameters": {},
   "duration": 361.232732,
   "end_time": "2021-08-10T18:32:33.862064",
   "environment_variables": {},
   "exception": null,
   "input_path": "__notebook__.ipynb",
   "output_path": "__notebook__.ipynb",
   "parameters": {},
   "start_time": "2021-08-10T18:26:32.629332",
   "version": "2.3.3"
  }
 },
 "nbformat": 4,
 "nbformat_minor": 5
}
